{
  "cells": [
    {
      "cell_type": "markdown",
      "metadata": {},
      "source": [
        "# Cronenbot Extrator\n"
      ]
    },
    {
      "cell_type": "markdown",
      "metadata": {},
      "source": [
        "## Importing Dependences"
      ]
    },
    {
      "cell_type": "code",
      "execution_count": 1,
      "metadata": {
        "id": "vzdcGBSH7c9I"
      },
      "outputs": [],
      "source": [
        "import json\n",
        "import os\n",
        "import numpy as np\n",
        "import tensorflow as tf\n",
        "import random\n",
        "from sklearn.metrics import confusion_matrix\n",
        "from keras.models import Sequential\n",
        "from keras import layers\n",
        "from keras.regularizers import l2"
      ]
    },
    {
      "cell_type": "markdown",
      "metadata": {},
      "source": [
        "## Loading paths"
      ]
    },
    {
      "cell_type": "code",
      "execution_count": 2,
      "metadata": {
        "id": "1fgWlgIo7exn"
      },
      "outputs": [],
      "source": [
        "train_data = []\n",
        "trainset_path = '../../dstc8-schema-guided-dialogue/train/'\n",
        "for file in os.listdir(trainset_path):\n",
        "    if file == 'schema.json':\n",
        "        continue\n",
        "        \n",
        "    with open(os.path.join(trainset_path, file), 'r') as json_file:\n",
        "        for elem in json.load(json_file):\n",
        "            train_data.append(elem)"
      ]
    },
    {
      "cell_type": "code",
      "execution_count": 5,
      "metadata": {
        "id": "0HTjqBCm7g9b"
      },
      "outputs": [],
      "source": [
        "test_data = []\n",
        "testset_path = '../../dstc8-schema-guided-dialogue/test/'\n",
        "for file in os.listdir(testset_path):\n",
        "    if file == 'schema.json':\n",
        "        continue\n",
        "        \n",
        "    with open(os.path.join(testset_path, file), 'r') as json_file:\n",
        "        for elem in json.load(json_file):\n",
        "            test_data.append(elem)"
      ]
    },
    {
      "cell_type": "markdown",
      "metadata": {},
      "source": [
        "## Encoding Labels"
      ]
    },
    {
      "cell_type": "code",
      "execution_count": 3,
      "metadata": {
        "id": "IHpCt4zhCAsJ"
      },
      "outputs": [],
      "source": [
        "labels = [\"o\", \"title\", \"genre\", \"subtitles\", \"directed_by\"]\n",
        "\n",
        "def slot2label(slot):\n",
        "  if slot == \"title\":\n",
        "    return 2\n",
        "  elif slot == \"genre\":\n",
        "    return 3\n",
        "  elif slot == \"subtitles\":\n",
        "    return 4\n",
        "  elif slot == \"directed_by\":\n",
        "    return 5\n",
        "  else:\n",
        "    return 1;"
      ]
    },
    {
      "cell_type": "markdown",
      "metadata": {},
      "source": [
        "## Loading data and labeling"
      ]
    },
    {
      "cell_type": "code",
      "execution_count": 6,
      "metadata": {
        "id": "7zA7w78G7hUj"
      },
      "outputs": [],
      "source": [
        "train_labels = []\n",
        "test_labels = []\n",
        "train_sentences = []\n",
        "test_sentences = []\n",
        "\n",
        "for dialogue in train_data:\n",
        "    for idx in range(0, len(dialogue['turns']), 2):\n",
        "        sentence = dialogue['turns'][idx]['utterance']\n",
        "        labels = np.ones(len(sentence))\n",
        "        slots = dialogue['turns'][idx]['frames'][0]['slots']\n",
        "\n",
        "        for slot in slots:\n",
        "          if slot2label(slot['slot']) != 1:\n",
        "            labels = np.concatenate([labels[:slot['start']], np.array([slot2label(slot['slot'])]*(slot['exclusive_end']-slot['start'])), labels[slot['exclusive_end']:]])\n",
        "            \n",
        "            train_sentences.append(sentence)\n",
        "            train_labels.append(labels);\n",
        "        \n",
        "for dialogue in test_data:\n",
        "    for idx in range(0, len(dialogue['turns']), 2):\n",
        "        sentence = dialogue['turns'][idx]['utterance']\n",
        "        labels = np.ones(len(sentence))\n",
        "        slots = dialogue['turns'][idx]['frames'][0]['slots']\n",
        "\n",
        "        for slot in slots:\n",
        "          if slot2label(slot['slot']) != 1:\n",
        "            labels = np.concatenate([labels[:slot['start']], np.array([slot2label(slot['slot'])]*(slot['exclusive_end']-slot['start'])), labels[slot['exclusive_end']:]])\n",
        "          \n",
        "            test_sentences.append(sentence)\n",
        "            test_labels.append(labels);"
      ]
    },
    {
      "cell_type": "markdown",
      "metadata": {},
      "source": [
        "## Creating vocab and mapping"
      ]
    },
    {
      "cell_type": "code",
      "execution_count": 7,
      "metadata": {
        "colab": {
          "base_uri": "https://localhost:8080/"
        },
        "id": "lPk70pGwJAdf",
        "outputId": "609e0246-8c53-41c4-cecc-8f1adfc72ba2"
      },
      "outputs": [
        {
          "name": "stdout",
          "output_type": "stream",
          "text": [
            "{' ': 1, '!': 2, '&': 3, \"'\": 4, ',': 5, '-': 6, '.': 7, '/': 8, '0': 9, '1': 10, '2': 11, '3': 12, '4': 13, '5': 14, '6': 15, '7': 16, '8': 17, '9': 18, ':': 19, ';': 20, '>': 21, '?': 22, 'A': 23, 'B': 24, 'C': 25, 'D': 26, 'E': 27, 'F': 28, 'G': 29, 'H': 30, 'I': 31, 'J': 32, 'K': 33, 'L': 34, 'M': 35, 'N': 36, 'O': 37, 'P': 38, 'Q': 39, 'R': 40, 'S': 41, 'T': 42, 'U': 43, 'V': 44, 'W': 45, 'X': 46, 'Y': 47, 'Z': 48, 'a': 49, 'b': 50, 'c': 51, 'd': 52, 'e': 53, 'f': 54, 'g': 55, 'h': 56, 'i': 57, 'j': 58, 'k': 59, 'l': 60, 'm': 61, 'n': 62, 'o': 63, 'p': 64, 'q': 65, 'r': 66, 's': 67, 't': 68, 'u': 69, 'v': 70, 'w': 71, 'x': 72, 'y': 73, 'z': 74}\n"
          ]
        }
      ],
      "source": [
        "# create character vocab\n",
        "all_text = \" \".join([\" \".join(x) for x in train_sentences+test_sentences])\n",
        "vocab = sorted(set(all_text))\n",
        "\n",
        "# create character/id and label/id mapping\n",
        "char2idx = {u:i+1 for i, u in enumerate(vocab)}\n",
        "idx2char = np.array(vocab)\n",
        "\n",
        "print(char2idx)\n",
        "\n",
        "train_sentences = list(map(lambda s:list(map(lambda c: char2idx[c],s)),train_sentences))\n",
        "test_sentences = list(map(lambda s:list(map(lambda c: char2idx[c],s)),test_sentences))"
      ]
    },
    {
      "cell_type": "markdown",
      "metadata": {},
      "source": [
        "## Creating generators for training"
      ]
    },
    {
      "cell_type": "code",
      "execution_count": 8,
      "metadata": {
        "id": "-E-Bvyk_SEAi"
      },
      "outputs": [],
      "source": [
        "# train_labels = []\n",
        "# test_labels = []\n",
        "# train_sentences = []\n",
        "# test_sentences = []\n",
        "    \n",
        "# training generator\n",
        "def gen_train_series():\n",
        "\n",
        "    for eg in zip(train_sentences, train_labels):\n",
        "      yield eg[0],eg[1]\n",
        "\n",
        "# validation generator\n",
        "def gen_valid_series():\n",
        "\n",
        "    for eg in valid_formatted:\n",
        "      yield eg[0],eg[1]\n",
        "\n",
        "# test generator\n",
        "def gen_test_series():\n",
        "\n",
        "  for eg in zip(test_sentences, test_labels):\n",
        "      yield eg[0],eg[1]\n",
        "  \n",
        "# create Dataset objects for train, test and validation sets  \n",
        "series = tf.data.Dataset.from_generator(gen_train_series,output_types=(tf.int32, tf.int32),output_shapes = ((None, None)))\n",
        "# series_valid = tf.data.Dataset.from_generator(gen_valid_series,output_types=(tf.int32, tf.int32),output_shapes = ((None, None)))\n",
        "series_test = tf.data.Dataset.from_generator(gen_test_series,output_types=(tf.int32, tf.int32),output_shapes = ((None, None)))\n",
        "\n",
        "BATCH_SIZE = 128\n",
        "BUFFER_SIZE=1000\n",
        "\n",
        "# create padded batch series objects for train, test and validation sets\n",
        "ds_series_batch = series.shuffle(BUFFER_SIZE).padded_batch(BATCH_SIZE, padded_shapes=([None], [None]), drop_remainder=True)\n",
        "# ds_series_batch_valid = series_valid.padded_batch(BATCH_SIZE, padded_shapes=([None], [None]), drop_remainder=True)\n",
        "ds_series_batch_test = series_test.padded_batch(BATCH_SIZE, padded_shapes=([None], [None]), drop_remainder=True)\n",
        "\n",
        "# print example batches\n",
        "# for input_example_batch, target_example_batch in ds_series_batch_valid.take(1):\n",
        "#   print(input_example_batch)\n",
        "#   print(target_example_batch)\n"
      ]
    },
    {
      "cell_type": "markdown",
      "metadata": {},
      "source": [
        "## Defining Model"
      ]
    },
    {
      "cell_type": "code",
      "execution_count": 9,
      "metadata": {
        "colab": {
          "base_uri": "https://localhost:8080/"
        },
        "id": "SqM7L7oLBleW",
        "outputId": "79724d7b-40d2-4c07-c0c4-b9d9980e096b"
      },
      "outputs": [
        {
          "name": "stdout",
          "output_type": "stream",
          "text": [
            "Model: \"sequential\"\n",
            "_________________________________________________________________\n",
            "Layer (type)                 Output Shape              Param #   \n",
            "=================================================================\n",
            "embedding (Embedding)        (128, None, 256)          19200     \n",
            "_________________________________________________________________\n",
            "lstm (LSTM)                  (128, None, 1024)         5246976   \n",
            "_________________________________________________________________\n",
            "dense (Dense)                (128, None, 41)           42025     \n",
            "=================================================================\n",
            "Total params: 5,308,201\n",
            "Trainable params: 5,308,201\n",
            "Non-trainable params: 0\n",
            "_________________________________________________________________\n"
          ]
        }
      ],
      "source": [
        "\n",
        "vocab_size = len(vocab)+1\n",
        "\n",
        "# The embedding dimension\n",
        "embedding_dim = 256\n",
        "\n",
        "# Number of RNN units\n",
        "rnn_units = 1024\n",
        "\n",
        "label_size = len(labels)  \n",
        "\n",
        "# build LSTM model\n",
        "def build_model(vocab_size,label_size, embedding_dim, rnn_units, batch_size):\n",
        "      model = tf.keras.Sequential([\n",
        "          tf.keras.layers.Embedding(vocab_size, embedding_dim,\n",
        "                            batch_input_shape=[batch_size, None],mask_zero=True),\n",
        "          tf.keras.layers.LSTM(rnn_units,\n",
        "                      return_sequences=True,\n",
        "                      stateful=True,\n",
        "                      recurrent_initializer='glorot_uniform'),\n",
        "          tf.keras.layers.Dense(label_size)\n",
        "          ])\n",
        "      return model\n",
        "\n",
        "model = build_model(\n",
        "      vocab_size = len(vocab)+1,\n",
        "      label_size=len(labels)+1,\n",
        "      embedding_dim=embedding_dim,\n",
        "      rnn_units=rnn_units,\n",
        "      batch_size=BATCH_SIZE)\n",
        "\n",
        "model.summary()"
      ]
    },
    {
      "cell_type": "markdown",
      "metadata": {},
      "source": [
        "## Defining Loss and compiling"
      ]
    },
    {
      "cell_type": "code",
      "execution_count": 10,
      "metadata": {
        "id": "V691VfUvHJQQ"
      },
      "outputs": [],
      "source": [
        "import os\n",
        "\n",
        "# define loss function\n",
        "def loss(labels, logits):\n",
        "    return tf.keras.losses.sparse_categorical_crossentropy(labels, logits, from_logits=True)\n",
        "\n",
        "model.compile(optimizer='adam', loss=loss,metrics=[tf.keras.metrics.SparseCategoricalAccuracy()])\n",
        "\n",
        "# Directory where the checkpoints will be saved\n",
        "checkpoint_dir = './training_checkpoints'\n",
        "# Name of the checkpoint files\n",
        "checkpoint_prefix = os.path.join(checkpoint_dir, \"ckpt_{epoch}\")\n",
        "\n",
        "checkpoint_callback=tf.keras.callbacks.ModelCheckpoint(\n",
        "    filepath=checkpoint_prefix,\n",
        "    save_weights_only=True)"
      ]
    },
    {
      "cell_type": "markdown",
      "metadata": {},
      "source": [
        "## Training"
      ]
    },
    {
      "cell_type": "code",
      "execution_count": 13,
      "metadata": {
        "colab": {
          "base_uri": "https://localhost:8080/"
        },
        "id": "KwHiJAL5KjDd",
        "outputId": "fcf126be-f9de-43f0-e3fd-09b36cb27afd"
      },
      "outputs": [
        {
          "name": "stdout",
          "output_type": "stream",
          "text": [
            "Epoch 1/100\n",
            "28/28 [==============================] - 3s 98ms/step - loss: 0.0407 - sparse_categorical_accuracy: 0.9540 - val_loss: 0.1382 - val_sparse_categorical_accuracy: 0.8999\n",
            "Epoch 2/100\n",
            "28/28 [==============================] - 2s 74ms/step - loss: 0.0407 - sparse_categorical_accuracy: 0.9539 - val_loss: 0.1391 - val_sparse_categorical_accuracy: 0.8958\n",
            "Epoch 3/100\n",
            "28/28 [==============================] - 2s 72ms/step - loss: 0.0401 - sparse_categorical_accuracy: 0.9553 - val_loss: 0.1361 - val_sparse_categorical_accuracy: 0.9008\n",
            "Epoch 4/100\n",
            "28/28 [==============================] - 2s 74ms/step - loss: 0.0409 - sparse_categorical_accuracy: 0.9544 - val_loss: 0.1392 - val_sparse_categorical_accuracy: 0.9018\n",
            "Epoch 5/100\n",
            "28/28 [==============================] - 2s 76ms/step - loss: 0.0382 - sparse_categorical_accuracy: 0.9552 - val_loss: 0.1416 - val_sparse_categorical_accuracy: 0.8960\n",
            "Epoch 6/100\n",
            "28/28 [==============================] - 2s 76ms/step - loss: 0.0370 - sparse_categorical_accuracy: 0.9574 - val_loss: 0.1485 - val_sparse_categorical_accuracy: 0.8991\n",
            "Epoch 7/100\n",
            "28/28 [==============================] - 2s 72ms/step - loss: 0.0356 - sparse_categorical_accuracy: 0.9590 - val_loss: 0.1479 - val_sparse_categorical_accuracy: 0.8921\n",
            "Epoch 8/100\n",
            "28/28 [==============================] - 2s 71ms/step - loss: 0.0336 - sparse_categorical_accuracy: 0.9602 - val_loss: 0.1481 - val_sparse_categorical_accuracy: 0.8897\n",
            "Epoch 9/100\n",
            "28/28 [==============================] - 2s 76ms/step - loss: 0.0355 - sparse_categorical_accuracy: 0.9585 - val_loss: 0.1508 - val_sparse_categorical_accuracy: 0.8910\n",
            "Epoch 10/100\n",
            "28/28 [==============================] - 2s 75ms/step - loss: 0.0344 - sparse_categorical_accuracy: 0.9595 - val_loss: 0.1467 - val_sparse_categorical_accuracy: 0.8960\n",
            "Epoch 11/100\n",
            "28/28 [==============================] - 2s 75ms/step - loss: 0.0343 - sparse_categorical_accuracy: 0.9592 - val_loss: 0.1489 - val_sparse_categorical_accuracy: 0.8921\n",
            "Epoch 12/100\n",
            "28/28 [==============================] - 2s 75ms/step - loss: 0.0335 - sparse_categorical_accuracy: 0.9595 - val_loss: 0.1429 - val_sparse_categorical_accuracy: 0.8985\n",
            "Epoch 13/100\n",
            "28/28 [==============================] - 2s 69ms/step - loss: 0.0337 - sparse_categorical_accuracy: 0.9602 - val_loss: 0.1387 - val_sparse_categorical_accuracy: 0.8991\n",
            "Epoch 14/100\n",
            "28/28 [==============================] - 2s 72ms/step - loss: 0.0328 - sparse_categorical_accuracy: 0.9605 - val_loss: 0.1383 - val_sparse_categorical_accuracy: 0.9022\n",
            "Epoch 15/100\n",
            "28/28 [==============================] - 2s 76ms/step - loss: 0.0315 - sparse_categorical_accuracy: 0.9611 - val_loss: 0.1503 - val_sparse_categorical_accuracy: 0.8943\n",
            "Epoch 16/100\n",
            "28/28 [==============================] - 2s 73ms/step - loss: 0.0302 - sparse_categorical_accuracy: 0.9615 - val_loss: 0.1549 - val_sparse_categorical_accuracy: 0.8946\n",
            "Epoch 17/100\n",
            "28/28 [==============================] - 2s 73ms/step - loss: 0.0299 - sparse_categorical_accuracy: 0.9633 - val_loss: 0.1557 - val_sparse_categorical_accuracy: 0.8923\n",
            "Epoch 18/100\n",
            "28/28 [==============================] - 2s 74ms/step - loss: 0.0301 - sparse_categorical_accuracy: 0.9631 - val_loss: 0.1473 - val_sparse_categorical_accuracy: 0.9003\n",
            "Epoch 19/100\n",
            "28/28 [==============================] - 2s 76ms/step - loss: 0.0292 - sparse_categorical_accuracy: 0.9633 - val_loss: 0.1506 - val_sparse_categorical_accuracy: 0.9033\n",
            "Epoch 20/100\n",
            "28/28 [==============================] - 2s 72ms/step - loss: 0.0279 - sparse_categorical_accuracy: 0.9640 - val_loss: 0.1543 - val_sparse_categorical_accuracy: 0.9002\n",
            "Epoch 21/100\n",
            "28/28 [==============================] - 2s 73ms/step - loss: 0.0280 - sparse_categorical_accuracy: 0.9647 - val_loss: 0.1487 - val_sparse_categorical_accuracy: 0.9020\n",
            "Epoch 22/100\n",
            "28/28 [==============================] - 2s 76ms/step - loss: 0.0255 - sparse_categorical_accuracy: 0.9648 - val_loss: 0.1585 - val_sparse_categorical_accuracy: 0.8945\n",
            "Epoch 23/100\n",
            "28/28 [==============================] - 2s 77ms/step - loss: 0.0288 - sparse_categorical_accuracy: 0.9629 - val_loss: 0.1571 - val_sparse_categorical_accuracy: 0.8964\n",
            "Epoch 24/100\n",
            "28/28 [==============================] - 2s 72ms/step - loss: 0.0273 - sparse_categorical_accuracy: 0.9649 - val_loss: 0.1555 - val_sparse_categorical_accuracy: 0.9013\n",
            "Epoch 25/100\n",
            "28/28 [==============================] - 2s 73ms/step - loss: 0.0272 - sparse_categorical_accuracy: 0.9632 - val_loss: 0.1546 - val_sparse_categorical_accuracy: 0.8995\n",
            "Epoch 26/100\n",
            "28/28 [==============================] - 2s 80ms/step - loss: 0.0274 - sparse_categorical_accuracy: 0.9653 - val_loss: 0.1565 - val_sparse_categorical_accuracy: 0.9019\n",
            "Epoch 27/100\n",
            "28/28 [==============================] - 2s 74ms/step - loss: 0.0259 - sparse_categorical_accuracy: 0.9648 - val_loss: 0.1594 - val_sparse_categorical_accuracy: 0.8947\n",
            "Epoch 28/100\n",
            "28/28 [==============================] - 2s 76ms/step - loss: 0.0272 - sparse_categorical_accuracy: 0.9642 - val_loss: 0.1607 - val_sparse_categorical_accuracy: 0.8961\n",
            "Epoch 29/100\n",
            "28/28 [==============================] - 2s 77ms/step - loss: 0.0241 - sparse_categorical_accuracy: 0.9660 - val_loss: 0.1691 - val_sparse_categorical_accuracy: 0.8965\n",
            "Epoch 30/100\n",
            "28/28 [==============================] - 2s 74ms/step - loss: 0.0236 - sparse_categorical_accuracy: 0.9661 - val_loss: 0.1583 - val_sparse_categorical_accuracy: 0.9055\n",
            "Epoch 31/100\n",
            "28/28 [==============================] - 2s 73ms/step - loss: 0.0244 - sparse_categorical_accuracy: 0.9654 - val_loss: 0.1631 - val_sparse_categorical_accuracy: 0.9010\n",
            "Epoch 32/100\n",
            "28/28 [==============================] - 2s 76ms/step - loss: 0.0245 - sparse_categorical_accuracy: 0.9655 - val_loss: 0.1663 - val_sparse_categorical_accuracy: 0.9001\n",
            "Epoch 33/100\n",
            "28/28 [==============================] - 2s 79ms/step - loss: 0.0232 - sparse_categorical_accuracy: 0.9668 - val_loss: 0.1691 - val_sparse_categorical_accuracy: 0.8987\n",
            "Epoch 34/100\n",
            "28/28 [==============================] - 2s 79ms/step - loss: 0.0246 - sparse_categorical_accuracy: 0.9655 - val_loss: 0.1633 - val_sparse_categorical_accuracy: 0.8960\n",
            "Epoch 35/100\n",
            "28/28 [==============================] - 2s 70ms/step - loss: 0.0240 - sparse_categorical_accuracy: 0.9663 - val_loss: 0.1675 - val_sparse_categorical_accuracy: 0.9024\n",
            "Epoch 36/100\n",
            "28/28 [==============================] - 2s 76ms/step - loss: 0.0234 - sparse_categorical_accuracy: 0.9657 - val_loss: 0.1598 - val_sparse_categorical_accuracy: 0.9035\n",
            "Epoch 37/100\n",
            "28/28 [==============================] - 2s 73ms/step - loss: 0.0226 - sparse_categorical_accuracy: 0.9660 - val_loss: 0.1627 - val_sparse_categorical_accuracy: 0.9015\n",
            "Epoch 38/100\n",
            "28/28 [==============================] - 2s 73ms/step - loss: 0.0234 - sparse_categorical_accuracy: 0.9654 - val_loss: 0.1704 - val_sparse_categorical_accuracy: 0.9035\n",
            "Epoch 39/100\n",
            "28/28 [==============================] - 2s 73ms/step - loss: 0.0228 - sparse_categorical_accuracy: 0.9659 - val_loss: 0.1600 - val_sparse_categorical_accuracy: 0.8998\n",
            "Epoch 40/100\n",
            "28/28 [==============================] - 2s 74ms/step - loss: 0.0221 - sparse_categorical_accuracy: 0.9666 - val_loss: 0.1675 - val_sparse_categorical_accuracy: 0.8979\n",
            "Epoch 41/100\n",
            "28/28 [==============================] - 2s 71ms/step - loss: 0.0226 - sparse_categorical_accuracy: 0.9670 - val_loss: 0.1676 - val_sparse_categorical_accuracy: 0.9003\n",
            "Epoch 42/100\n",
            "28/28 [==============================] - 2s 72ms/step - loss: 0.0218 - sparse_categorical_accuracy: 0.9673 - val_loss: 0.1720 - val_sparse_categorical_accuracy: 0.8958\n",
            "Epoch 43/100\n",
            "28/28 [==============================] - 2s 70ms/step - loss: 0.0210 - sparse_categorical_accuracy: 0.9668 - val_loss: 0.1669 - val_sparse_categorical_accuracy: 0.9029\n",
            "Epoch 44/100\n",
            "28/28 [==============================] - 2s 72ms/step - loss: 0.0225 - sparse_categorical_accuracy: 0.9672 - val_loss: 0.1713 - val_sparse_categorical_accuracy: 0.8991\n",
            "Epoch 45/100\n",
            "28/28 [==============================] - 2s 74ms/step - loss: 0.0240 - sparse_categorical_accuracy: 0.9652 - val_loss: 0.1664 - val_sparse_categorical_accuracy: 0.9000\n",
            "Epoch 46/100\n",
            "28/28 [==============================] - 2s 69ms/step - loss: 0.0241 - sparse_categorical_accuracy: 0.9648 - val_loss: 0.1706 - val_sparse_categorical_accuracy: 0.9033\n",
            "Epoch 47/100\n",
            "28/28 [==============================] - 2s 75ms/step - loss: 0.0235 - sparse_categorical_accuracy: 0.9659 - val_loss: 0.1610 - val_sparse_categorical_accuracy: 0.9060\n",
            "Epoch 48/100\n",
            "28/28 [==============================] - 2s 77ms/step - loss: 0.0231 - sparse_categorical_accuracy: 0.9658 - val_loss: 0.1678 - val_sparse_categorical_accuracy: 0.9001\n",
            "Epoch 49/100\n",
            "28/28 [==============================] - 2s 76ms/step - loss: 0.0222 - sparse_categorical_accuracy: 0.9667 - val_loss: 0.1748 - val_sparse_categorical_accuracy: 0.9008\n",
            "Epoch 50/100\n",
            "28/28 [==============================] - 2s 75ms/step - loss: 0.0220 - sparse_categorical_accuracy: 0.9670 - val_loss: 0.1695 - val_sparse_categorical_accuracy: 0.8982\n",
            "Epoch 51/100\n",
            "28/28 [==============================] - 2s 74ms/step - loss: 0.0209 - sparse_categorical_accuracy: 0.9675 - val_loss: 0.1721 - val_sparse_categorical_accuracy: 0.9024\n",
            "Epoch 52/100\n",
            "28/28 [==============================] - 2s 76ms/step - loss: 0.0207 - sparse_categorical_accuracy: 0.9673 - val_loss: 0.1702 - val_sparse_categorical_accuracy: 0.9038\n",
            "Epoch 53/100\n",
            "28/28 [==============================] - 2s 73ms/step - loss: 0.0215 - sparse_categorical_accuracy: 0.9674 - val_loss: 0.1741 - val_sparse_categorical_accuracy: 0.9076\n",
            "Epoch 54/100\n",
            "28/28 [==============================] - 2s 73ms/step - loss: 0.0194 - sparse_categorical_accuracy: 0.9679 - val_loss: 0.1724 - val_sparse_categorical_accuracy: 0.9036\n",
            "Epoch 55/100\n",
            "28/28 [==============================] - 2s 72ms/step - loss: 0.0212 - sparse_categorical_accuracy: 0.9668 - val_loss: 0.1682 - val_sparse_categorical_accuracy: 0.9006\n",
            "Epoch 56/100\n",
            "28/28 [==============================] - 2s 74ms/step - loss: 0.0206 - sparse_categorical_accuracy: 0.9672 - val_loss: 0.1765 - val_sparse_categorical_accuracy: 0.8986\n",
            "Epoch 57/100\n",
            "28/28 [==============================] - 2s 72ms/step - loss: 0.0207 - sparse_categorical_accuracy: 0.9680 - val_loss: 0.1756 - val_sparse_categorical_accuracy: 0.9016\n",
            "Epoch 58/100\n",
            "28/28 [==============================] - 2s 77ms/step - loss: 0.0213 - sparse_categorical_accuracy: 0.9676 - val_loss: 0.1742 - val_sparse_categorical_accuracy: 0.9045\n",
            "Epoch 59/100\n",
            "28/28 [==============================] - 2s 75ms/step - loss: 0.0212 - sparse_categorical_accuracy: 0.9672 - val_loss: 0.1682 - val_sparse_categorical_accuracy: 0.9038\n",
            "Epoch 60/100\n",
            "28/28 [==============================] - 2s 73ms/step - loss: 0.0210 - sparse_categorical_accuracy: 0.9677 - val_loss: 0.1700 - val_sparse_categorical_accuracy: 0.9057\n",
            "Epoch 61/100\n",
            "28/28 [==============================] - 2s 73ms/step - loss: 0.0214 - sparse_categorical_accuracy: 0.9675 - val_loss: 0.1751 - val_sparse_categorical_accuracy: 0.9013\n",
            "Epoch 62/100\n",
            "28/28 [==============================] - 2s 72ms/step - loss: 0.0195 - sparse_categorical_accuracy: 0.9676 - val_loss: 0.1792 - val_sparse_categorical_accuracy: 0.8963\n",
            "Epoch 63/100\n",
            "28/28 [==============================] - 2s 77ms/step - loss: 0.0199 - sparse_categorical_accuracy: 0.9672 - val_loss: 0.1741 - val_sparse_categorical_accuracy: 0.9034\n",
            "Epoch 64/100\n",
            "28/28 [==============================] - 2s 74ms/step - loss: 0.0216 - sparse_categorical_accuracy: 0.9671 - val_loss: 0.1734 - val_sparse_categorical_accuracy: 0.9026\n",
            "Epoch 65/100\n",
            "28/28 [==============================] - 2s 73ms/step - loss: 0.0195 - sparse_categorical_accuracy: 0.9679 - val_loss: 0.1786 - val_sparse_categorical_accuracy: 0.8997\n",
            "Epoch 66/100\n",
            "28/28 [==============================] - 2s 75ms/step - loss: 0.0193 - sparse_categorical_accuracy: 0.9684 - val_loss: 0.1813 - val_sparse_categorical_accuracy: 0.8995\n",
            "Epoch 67/100\n",
            "28/28 [==============================] - 2s 74ms/step - loss: 0.0193 - sparse_categorical_accuracy: 0.9684 - val_loss: 0.1797 - val_sparse_categorical_accuracy: 0.9027\n",
            "Epoch 68/100\n",
            "28/28 [==============================] - 2s 71ms/step - loss: 0.0194 - sparse_categorical_accuracy: 0.9687 - val_loss: 0.1856 - val_sparse_categorical_accuracy: 0.8985\n",
            "Epoch 69/100\n",
            "28/28 [==============================] - 2s 74ms/step - loss: 0.0193 - sparse_categorical_accuracy: 0.9672 - val_loss: 0.1733 - val_sparse_categorical_accuracy: 0.9063\n",
            "Epoch 70/100\n",
            "28/28 [==============================] - 2s 74ms/step - loss: 0.0192 - sparse_categorical_accuracy: 0.9673 - val_loss: 0.1805 - val_sparse_categorical_accuracy: 0.8974\n",
            "Epoch 71/100\n",
            "28/28 [==============================] - 2s 73ms/step - loss: 0.0188 - sparse_categorical_accuracy: 0.9681 - val_loss: 0.1813 - val_sparse_categorical_accuracy: 0.8992\n",
            "Epoch 72/100\n",
            "28/28 [==============================] - 2s 73ms/step - loss: 0.0196 - sparse_categorical_accuracy: 0.9685 - val_loss: 0.1798 - val_sparse_categorical_accuracy: 0.9007\n",
            "Epoch 73/100\n",
            "28/28 [==============================] - 2s 71ms/step - loss: 0.0189 - sparse_categorical_accuracy: 0.9686 - val_loss: 0.1879 - val_sparse_categorical_accuracy: 0.8988\n",
            "Epoch 74/100\n",
            "28/28 [==============================] - 2s 74ms/step - loss: 0.0197 - sparse_categorical_accuracy: 0.9681 - val_loss: 0.1857 - val_sparse_categorical_accuracy: 0.9009\n",
            "Epoch 75/100\n",
            "28/28 [==============================] - 2s 75ms/step - loss: 0.0182 - sparse_categorical_accuracy: 0.9687 - val_loss: 0.1836 - val_sparse_categorical_accuracy: 0.9019\n",
            "Epoch 76/100\n",
            "28/28 [==============================] - 2s 72ms/step - loss: 0.0197 - sparse_categorical_accuracy: 0.9667 - val_loss: 0.1765 - val_sparse_categorical_accuracy: 0.9048\n",
            "Epoch 77/100\n",
            "28/28 [==============================] - 2s 73ms/step - loss: 0.0196 - sparse_categorical_accuracy: 0.9683 - val_loss: 0.1790 - val_sparse_categorical_accuracy: 0.9000\n",
            "Epoch 78/100\n",
            "28/28 [==============================] - 2s 76ms/step - loss: 0.0197 - sparse_categorical_accuracy: 0.9699 - val_loss: 0.1812 - val_sparse_categorical_accuracy: 0.9023\n",
            "Epoch 79/100\n",
            "28/28 [==============================] - 2s 75ms/step - loss: 0.0212 - sparse_categorical_accuracy: 0.9676 - val_loss: 0.1862 - val_sparse_categorical_accuracy: 0.8992\n",
            "Epoch 80/100\n",
            "28/28 [==============================] - 2s 74ms/step - loss: 0.0196 - sparse_categorical_accuracy: 0.9676 - val_loss: 0.1842 - val_sparse_categorical_accuracy: 0.8955\n",
            "Epoch 81/100\n",
            "28/28 [==============================] - 2s 74ms/step - loss: 0.0198 - sparse_categorical_accuracy: 0.9687 - val_loss: 0.1740 - val_sparse_categorical_accuracy: 0.9028\n",
            "Epoch 82/100\n",
            "28/28 [==============================] - 2s 76ms/step - loss: 0.0204 - sparse_categorical_accuracy: 0.9682 - val_loss: 0.1796 - val_sparse_categorical_accuracy: 0.8994\n",
            "Epoch 83/100\n",
            "28/28 [==============================] - 2s 71ms/step - loss: 0.0210 - sparse_categorical_accuracy: 0.9673 - val_loss: 0.1838 - val_sparse_categorical_accuracy: 0.8970\n",
            "Epoch 84/100\n",
            "28/28 [==============================] - 2s 79ms/step - loss: 0.0214 - sparse_categorical_accuracy: 0.9684 - val_loss: 0.1832 - val_sparse_categorical_accuracy: 0.8990\n",
            "Epoch 85/100\n",
            "28/28 [==============================] - 2s 77ms/step - loss: 0.0205 - sparse_categorical_accuracy: 0.9679 - val_loss: 0.1785 - val_sparse_categorical_accuracy: 0.9036\n",
            "Epoch 86/100\n",
            "28/28 [==============================] - 2s 74ms/step - loss: 0.0196 - sparse_categorical_accuracy: 0.9690 - val_loss: 0.1796 - val_sparse_categorical_accuracy: 0.8960\n",
            "Epoch 87/100\n",
            "28/28 [==============================] - 2s 74ms/step - loss: 0.0199 - sparse_categorical_accuracy: 0.9698 - val_loss: 0.1824 - val_sparse_categorical_accuracy: 0.8950\n",
            "Epoch 88/100\n",
            "28/28 [==============================] - 2s 74ms/step - loss: 0.0190 - sparse_categorical_accuracy: 0.9675 - val_loss: 0.1813 - val_sparse_categorical_accuracy: 0.9019\n",
            "Epoch 89/100\n",
            "28/28 [==============================] - 2s 75ms/step - loss: 0.0199 - sparse_categorical_accuracy: 0.9682 - val_loss: 0.1875 - val_sparse_categorical_accuracy: 0.8945\n",
            "Epoch 90/100\n",
            "28/28 [==============================] - 2s 72ms/step - loss: 0.0201 - sparse_categorical_accuracy: 0.9686 - val_loss: 0.1903 - val_sparse_categorical_accuracy: 0.8915\n",
            "Epoch 91/100\n",
            "28/28 [==============================] - 2s 74ms/step - loss: 0.0191 - sparse_categorical_accuracy: 0.9684 - val_loss: 0.1818 - val_sparse_categorical_accuracy: 0.8986\n",
            "Epoch 92/100\n",
            "28/28 [==============================] - 2s 74ms/step - loss: 0.0195 - sparse_categorical_accuracy: 0.9687 - val_loss: 0.1834 - val_sparse_categorical_accuracy: 0.8975\n",
            "Epoch 93/100\n",
            "28/28 [==============================] - 2s 73ms/step - loss: 0.0191 - sparse_categorical_accuracy: 0.9686 - val_loss: 0.1770 - val_sparse_categorical_accuracy: 0.8956\n",
            "Epoch 94/100\n",
            "28/28 [==============================] - 2s 75ms/step - loss: 0.0189 - sparse_categorical_accuracy: 0.9684 - val_loss: 0.1889 - val_sparse_categorical_accuracy: 0.8983\n",
            "Epoch 95/100\n",
            "28/28 [==============================] - 2s 74ms/step - loss: 0.0186 - sparse_categorical_accuracy: 0.9687 - val_loss: 0.1867 - val_sparse_categorical_accuracy: 0.8955\n",
            "Epoch 96/100\n",
            "28/28 [==============================] - 2s 72ms/step - loss: 0.0181 - sparse_categorical_accuracy: 0.9683 - val_loss: 0.1880 - val_sparse_categorical_accuracy: 0.8974\n",
            "Epoch 97/100\n",
            "28/28 [==============================] - 2s 79ms/step - loss: 0.0177 - sparse_categorical_accuracy: 0.9684 - val_loss: 0.1908 - val_sparse_categorical_accuracy: 0.8977\n",
            "Epoch 98/100\n",
            "28/28 [==============================] - 2s 79ms/step - loss: 0.0180 - sparse_categorical_accuracy: 0.9690 - val_loss: 0.1877 - val_sparse_categorical_accuracy: 0.8959\n",
            "Epoch 99/100\n",
            "28/28 [==============================] - 2s 74ms/step - loss: 0.0191 - sparse_categorical_accuracy: 0.9677 - val_loss: 0.1906 - val_sparse_categorical_accuracy: 0.8965\n",
            "Epoch 100/100\n",
            "28/28 [==============================] - 2s 74ms/step - loss: 0.0196 - sparse_categorical_accuracy: 0.9678 - val_loss: 0.1866 - val_sparse_categorical_accuracy: 0.8995\n"
          ]
        }
      ],
      "source": [
        "    EPOCHS=100\n",
        "    history = model.fit(ds_series_batch, epochs=EPOCHS, validation_data=ds_series_batch_test,callbacks=[checkpoint_callback])"
      ]
    },
    {
      "cell_type": "markdown",
      "metadata": {},
      "source": [
        "## Saving"
      ]
    },
    {
      "cell_type": "code",
      "execution_count": 14,
      "metadata": {},
      "outputs": [],
      "source": [
        "\n",
        "model.save('models/entities.h5')\n"
      ]
    },
    {
      "cell_type": "markdown",
      "metadata": {},
      "source": [
        "## Others"
      ]
    },
    {
      "cell_type": "code",
      "execution_count": null,
      "metadata": {
        "colab": {
          "base_uri": "https://localhost:8080/"
        },
        "id": "NXMZ4_3STQaI",
        "outputId": "8be09e5e-fabd-47c0-a7dd-2702c0ce4928"
      },
      "outputs": [
        {
          "name": "stdout",
          "output_type": "stream",
          "text": [
            "[[155662    458   2198    859      0   1698]\n",
            " [   111    782    144      0      0     15]\n",
            " [  2548     74  14030     19      0     24]\n",
            " [  1947      1      0   6293      0     12]\n",
            " [   737    134    211      1      0     11]\n",
            " [  3654      0     27     13      0  12730]]\n"
          ]
        },
        {
          "name": "stderr",
          "output_type": "stream",
          "text": [
            "/usr/local/lib/python3.7/dist-packages/sklearn/metrics/_classification.py:1272: UndefinedMetricWarning: Precision and F-score are ill-defined and being set to 0.0 in labels with no predicted samples. Use `zero_division` parameter to control this behavior.\n",
            "  _warn_prf(average, modifier, msg_start, len(result))\n"
          ]
        },
        {
          "name": "stdout",
          "output_type": "stream",
          "text": [
            "              precision    recall  f1-score   support\n",
            "\n",
            "         1.0       0.95      0.97      0.96    160875\n",
            "         2.0       0.54      0.74      0.63      1052\n",
            "         3.0       0.84      0.84      0.84     16695\n",
            "         4.0       0.88      0.76      0.82      8253\n",
            "         5.0       0.00      0.00      0.00      1094\n",
            "         6.0       0.88      0.78      0.82     16424\n",
            "\n",
            "    accuracy                           0.93    204393\n",
            "   macro avg       0.68      0.68      0.68    204393\n",
            "weighted avg       0.92      0.93      0.92    204393\n",
            "\n"
          ]
        }
      ],
      "source": [
        "from sklearn.metrics import classification_report, confusion_matrix\n",
        "\n",
        "preds = np.array([])\n",
        "y_trues= np.array([])\n",
        "\n",
        "# iterate through test set, make predictions based on trained model\n",
        "for input_example_batch, target_example_batch in ds_series_batch_test:\n",
        "\n",
        "  pred=model.predict_on_batch(input_example_batch)\n",
        "  pred_max=tf.argmax(tf.nn.softmax(pred),2).numpy().flatten()\n",
        "  y_true=target_example_batch.numpy().flatten()\n",
        "\n",
        "  preds=np.concatenate([preds,pred_max])\n",
        "  y_trues=np.concatenate([y_trues,y_true])\n",
        "\n",
        "# remove padding from evaluation\n",
        "remove_padding = [(p,y) for p,y in zip(preds,y_trues) if y!=0]\n",
        "\n",
        "r_p = [x[0] for x in remove_padding]\n",
        "r_t = [x[1] for x in remove_padding]\n",
        "\n",
        "# print confusion matrix and classification report\n",
        "print(confusion_matrix(r_p,r_t))\n",
        "print(classification_report(r_p,r_t))"
      ]
    },
    {
      "cell_type": "code",
      "execution_count": null,
      "metadata": {
        "colab": {
          "base_uri": "https://localhost:8080/",
          "height": 425
        },
        "id": "zoRwgDP0r-8U",
        "outputId": "76753019-827e-4696-fb12-a8066a348b8a"
      },
      "outputs": [
        {
          "ename": "InvalidArgumentError",
          "evalue": "ignored",
          "output_type": "error",
          "traceback": [
            "\u001b[0;31m---------------------------------------------------------------------------\u001b[0m",
            "\u001b[0;31mInvalidArgumentError\u001b[0m                      Traceback (most recent call last)",
            "\u001b[0;32m<ipython-input-49-bbb0f5d06ed3>\u001b[0m in \u001b[0;36m<module>\u001b[0;34m()\u001b[0m\n\u001b[1;32m      1\u001b[0m \u001b[0msentences\u001b[0m \u001b[0;34m=\u001b[0m \u001b[0mnp\u001b[0m\u001b[0;34m.\u001b[0m\u001b[0marray\u001b[0m\u001b[0;34m(\u001b[0m\u001b[0;34m[\u001b[0m\u001b[0;34m\"I want it to be in San Jose\"\u001b[0m\u001b[0;34m]\u001b[0m\u001b[0;34m)\u001b[0m\u001b[0;34m\u001b[0m\u001b[0;34m\u001b[0m\u001b[0m\n\u001b[1;32m      2\u001b[0m \u001b[0msentences\u001b[0m \u001b[0;34m=\u001b[0m \u001b[0mnp\u001b[0m\u001b[0;34m.\u001b[0m\u001b[0marray\u001b[0m\u001b[0;34m(\u001b[0m\u001b[0mlist\u001b[0m\u001b[0;34m(\u001b[0m\u001b[0mmap\u001b[0m\u001b[0;34m(\u001b[0m\u001b[0;32mlambda\u001b[0m \u001b[0ms\u001b[0m\u001b[0;34m:\u001b[0m\u001b[0mnp\u001b[0m\u001b[0;34m.\u001b[0m\u001b[0marray\u001b[0m\u001b[0;34m(\u001b[0m\u001b[0mlist\u001b[0m\u001b[0;34m(\u001b[0m\u001b[0mmap\u001b[0m\u001b[0;34m(\u001b[0m\u001b[0;32mlambda\u001b[0m \u001b[0mc\u001b[0m\u001b[0;34m:\u001b[0m \u001b[0mchar2idx\u001b[0m\u001b[0;34m[\u001b[0m\u001b[0mc\u001b[0m\u001b[0;34m]\u001b[0m\u001b[0;34m,\u001b[0m\u001b[0ms\u001b[0m\u001b[0;34m)\u001b[0m\u001b[0;34m)\u001b[0m\u001b[0;34m)\u001b[0m\u001b[0;34m,\u001b[0m\u001b[0msentences\u001b[0m\u001b[0;34m)\u001b[0m\u001b[0;34m)\u001b[0m\u001b[0;34m)\u001b[0m\u001b[0;34m\u001b[0m\u001b[0;34m\u001b[0m\u001b[0m\n\u001b[0;32m----> 3\u001b[0;31m \u001b[0mmodel\u001b[0m\u001b[0;34m.\u001b[0m\u001b[0mpredict\u001b[0m\u001b[0;34m(\u001b[0m\u001b[0msentences\u001b[0m\u001b[0;34m)\u001b[0m\u001b[0;34m\u001b[0m\u001b[0;34m\u001b[0m\u001b[0m\n\u001b[0m",
            "\u001b[0;32m/usr/local/lib/python3.7/dist-packages/tensorflow/python/keras/engine/training.py\u001b[0m in \u001b[0;36mpredict\u001b[0;34m(self, x, batch_size, verbose, steps, callbacks, max_queue_size, workers, use_multiprocessing)\u001b[0m\n\u001b[1;32m   1725\u001b[0m           \u001b[0;32mfor\u001b[0m \u001b[0mstep\u001b[0m \u001b[0;32min\u001b[0m \u001b[0mdata_handler\u001b[0m\u001b[0;34m.\u001b[0m\u001b[0msteps\u001b[0m\u001b[0;34m(\u001b[0m\u001b[0;34m)\u001b[0m\u001b[0;34m:\u001b[0m\u001b[0;34m\u001b[0m\u001b[0;34m\u001b[0m\u001b[0m\n\u001b[1;32m   1726\u001b[0m             \u001b[0mcallbacks\u001b[0m\u001b[0;34m.\u001b[0m\u001b[0mon_predict_batch_begin\u001b[0m\u001b[0;34m(\u001b[0m\u001b[0mstep\u001b[0m\u001b[0;34m)\u001b[0m\u001b[0;34m\u001b[0m\u001b[0;34m\u001b[0m\u001b[0m\n\u001b[0;32m-> 1727\u001b[0;31m             \u001b[0mtmp_batch_outputs\u001b[0m \u001b[0;34m=\u001b[0m \u001b[0mself\u001b[0m\u001b[0;34m.\u001b[0m\u001b[0mpredict_function\u001b[0m\u001b[0;34m(\u001b[0m\u001b[0miterator\u001b[0m\u001b[0;34m)\u001b[0m\u001b[0;34m\u001b[0m\u001b[0;34m\u001b[0m\u001b[0m\n\u001b[0m\u001b[1;32m   1728\u001b[0m             \u001b[0;32mif\u001b[0m \u001b[0mdata_handler\u001b[0m\u001b[0;34m.\u001b[0m\u001b[0mshould_sync\u001b[0m\u001b[0;34m:\u001b[0m\u001b[0;34m\u001b[0m\u001b[0;34m\u001b[0m\u001b[0m\n\u001b[1;32m   1729\u001b[0m               \u001b[0mcontext\u001b[0m\u001b[0;34m.\u001b[0m\u001b[0masync_wait\u001b[0m\u001b[0;34m(\u001b[0m\u001b[0;34m)\u001b[0m\u001b[0;34m\u001b[0m\u001b[0;34m\u001b[0m\u001b[0m\n",
            "\u001b[0;32m/usr/local/lib/python3.7/dist-packages/tensorflow/python/eager/def_function.py\u001b[0m in \u001b[0;36m__call__\u001b[0;34m(self, *args, **kwds)\u001b[0m\n\u001b[1;32m    887\u001b[0m \u001b[0;34m\u001b[0m\u001b[0m\n\u001b[1;32m    888\u001b[0m       \u001b[0;32mwith\u001b[0m \u001b[0mOptionalXlaContext\u001b[0m\u001b[0;34m(\u001b[0m\u001b[0mself\u001b[0m\u001b[0;34m.\u001b[0m\u001b[0m_jit_compile\u001b[0m\u001b[0;34m)\u001b[0m\u001b[0;34m:\u001b[0m\u001b[0;34m\u001b[0m\u001b[0;34m\u001b[0m\u001b[0m\n\u001b[0;32m--> 889\u001b[0;31m         \u001b[0mresult\u001b[0m \u001b[0;34m=\u001b[0m \u001b[0mself\u001b[0m\u001b[0;34m.\u001b[0m\u001b[0m_call\u001b[0m\u001b[0;34m(\u001b[0m\u001b[0;34m*\u001b[0m\u001b[0margs\u001b[0m\u001b[0;34m,\u001b[0m \u001b[0;34m**\u001b[0m\u001b[0mkwds\u001b[0m\u001b[0;34m)\u001b[0m\u001b[0;34m\u001b[0m\u001b[0;34m\u001b[0m\u001b[0m\n\u001b[0m\u001b[1;32m    890\u001b[0m \u001b[0;34m\u001b[0m\u001b[0m\n\u001b[1;32m    891\u001b[0m       \u001b[0mnew_tracing_count\u001b[0m \u001b[0;34m=\u001b[0m \u001b[0mself\u001b[0m\u001b[0;34m.\u001b[0m\u001b[0mexperimental_get_tracing_count\u001b[0m\u001b[0;34m(\u001b[0m\u001b[0;34m)\u001b[0m\u001b[0;34m\u001b[0m\u001b[0;34m\u001b[0m\u001b[0m\n",
            "\u001b[0;32m/usr/local/lib/python3.7/dist-packages/tensorflow/python/eager/def_function.py\u001b[0m in \u001b[0;36m_call\u001b[0;34m(self, *args, **kwds)\u001b[0m\n\u001b[1;32m    922\u001b[0m       \u001b[0;31m# In this case we have not created variables on the first call. So we can\u001b[0m\u001b[0;34m\u001b[0m\u001b[0;34m\u001b[0m\u001b[0;34m\u001b[0m\u001b[0m\n\u001b[1;32m    923\u001b[0m       \u001b[0;31m# run the first trace but we should fail if variables are created.\u001b[0m\u001b[0;34m\u001b[0m\u001b[0;34m\u001b[0m\u001b[0;34m\u001b[0m\u001b[0m\n\u001b[0;32m--> 924\u001b[0;31m       \u001b[0mresults\u001b[0m \u001b[0;34m=\u001b[0m \u001b[0mself\u001b[0m\u001b[0;34m.\u001b[0m\u001b[0m_stateful_fn\u001b[0m\u001b[0;34m(\u001b[0m\u001b[0;34m*\u001b[0m\u001b[0margs\u001b[0m\u001b[0;34m,\u001b[0m \u001b[0;34m**\u001b[0m\u001b[0mkwds\u001b[0m\u001b[0;34m)\u001b[0m\u001b[0;34m\u001b[0m\u001b[0;34m\u001b[0m\u001b[0m\n\u001b[0m\u001b[1;32m    925\u001b[0m       \u001b[0;32mif\u001b[0m \u001b[0mself\u001b[0m\u001b[0;34m.\u001b[0m\u001b[0m_created_variables\u001b[0m\u001b[0;34m:\u001b[0m\u001b[0;34m\u001b[0m\u001b[0;34m\u001b[0m\u001b[0m\n\u001b[1;32m    926\u001b[0m         raise ValueError(\"Creating variables on a non-first call to a function\"\n",
            "\u001b[0;32m/usr/local/lib/python3.7/dist-packages/tensorflow/python/eager/function.py\u001b[0m in \u001b[0;36m__call__\u001b[0;34m(self, *args, **kwargs)\u001b[0m\n\u001b[1;32m   3022\u001b[0m        filtered_flat_args) = self._maybe_define_function(args, kwargs)\n\u001b[1;32m   3023\u001b[0m     return graph_function._call_flat(\n\u001b[0;32m-> 3024\u001b[0;31m         filtered_flat_args, captured_inputs=graph_function.captured_inputs)  # pylint: disable=protected-access\n\u001b[0m\u001b[1;32m   3025\u001b[0m \u001b[0;34m\u001b[0m\u001b[0m\n\u001b[1;32m   3026\u001b[0m   \u001b[0;34m@\u001b[0m\u001b[0mproperty\u001b[0m\u001b[0;34m\u001b[0m\u001b[0;34m\u001b[0m\u001b[0m\n",
            "\u001b[0;32m/usr/local/lib/python3.7/dist-packages/tensorflow/python/eager/function.py\u001b[0m in \u001b[0;36m_call_flat\u001b[0;34m(self, args, captured_inputs, cancellation_manager)\u001b[0m\n\u001b[1;32m   1959\u001b[0m       \u001b[0;31m# No tape is watching; skip to running the function.\u001b[0m\u001b[0;34m\u001b[0m\u001b[0;34m\u001b[0m\u001b[0;34m\u001b[0m\u001b[0m\n\u001b[1;32m   1960\u001b[0m       return self._build_call_outputs(self._inference_function.call(\n\u001b[0;32m-> 1961\u001b[0;31m           ctx, args, cancellation_manager=cancellation_manager))\n\u001b[0m\u001b[1;32m   1962\u001b[0m     forward_backward = self._select_forward_and_backward_functions(\n\u001b[1;32m   1963\u001b[0m         \u001b[0margs\u001b[0m\u001b[0;34m,\u001b[0m\u001b[0;34m\u001b[0m\u001b[0;34m\u001b[0m\u001b[0m\n",
            "\u001b[0;32m/usr/local/lib/python3.7/dist-packages/tensorflow/python/eager/function.py\u001b[0m in \u001b[0;36mcall\u001b[0;34m(self, ctx, args, cancellation_manager)\u001b[0m\n\u001b[1;32m    594\u001b[0m               \u001b[0minputs\u001b[0m\u001b[0;34m=\u001b[0m\u001b[0margs\u001b[0m\u001b[0;34m,\u001b[0m\u001b[0;34m\u001b[0m\u001b[0;34m\u001b[0m\u001b[0m\n\u001b[1;32m    595\u001b[0m               \u001b[0mattrs\u001b[0m\u001b[0;34m=\u001b[0m\u001b[0mattrs\u001b[0m\u001b[0;34m,\u001b[0m\u001b[0;34m\u001b[0m\u001b[0;34m\u001b[0m\u001b[0m\n\u001b[0;32m--> 596\u001b[0;31m               ctx=ctx)\n\u001b[0m\u001b[1;32m    597\u001b[0m         \u001b[0;32melse\u001b[0m\u001b[0;34m:\u001b[0m\u001b[0;34m\u001b[0m\u001b[0;34m\u001b[0m\u001b[0m\n\u001b[1;32m    598\u001b[0m           outputs = execute.execute_with_cancellation(\n",
            "\u001b[0;32m/usr/local/lib/python3.7/dist-packages/tensorflow/python/eager/execute.py\u001b[0m in \u001b[0;36mquick_execute\u001b[0;34m(op_name, num_outputs, inputs, attrs, ctx, name)\u001b[0m\n\u001b[1;32m     58\u001b[0m     \u001b[0mctx\u001b[0m\u001b[0;34m.\u001b[0m\u001b[0mensure_initialized\u001b[0m\u001b[0;34m(\u001b[0m\u001b[0;34m)\u001b[0m\u001b[0;34m\u001b[0m\u001b[0;34m\u001b[0m\u001b[0m\n\u001b[1;32m     59\u001b[0m     tensors = pywrap_tfe.TFE_Py_Execute(ctx._handle, device_name, op_name,\n\u001b[0;32m---> 60\u001b[0;31m                                         inputs, attrs, num_outputs)\n\u001b[0m\u001b[1;32m     61\u001b[0m   \u001b[0;32mexcept\u001b[0m \u001b[0mcore\u001b[0m\u001b[0;34m.\u001b[0m\u001b[0m_NotOkStatusException\u001b[0m \u001b[0;32mas\u001b[0m \u001b[0me\u001b[0m\u001b[0;34m:\u001b[0m\u001b[0;34m\u001b[0m\u001b[0;34m\u001b[0m\u001b[0m\n\u001b[1;32m     62\u001b[0m     \u001b[0;32mif\u001b[0m \u001b[0mname\u001b[0m \u001b[0;32mis\u001b[0m \u001b[0;32mnot\u001b[0m \u001b[0;32mNone\u001b[0m\u001b[0;34m:\u001b[0m\u001b[0;34m\u001b[0m\u001b[0;34m\u001b[0m\u001b[0m\n",
            "\u001b[0;31mInvalidArgumentError\u001b[0m:    Invalid input_h shape: [128,1,1024] [1,1,1024]\n\t [[{{node cond/then/_0/cond/CudnnRNNV3}}]]\n\t [[sequential_2/lstm_2/PartitionedCall]] [Op:__inference_predict_function_63562]\n\nFunction call stack:\npredict_function -> predict_function -> predict_function\n"
          ]
        }
      ],
      "source": [
        "sentences = np.array([\"I want it to be in San Jose\"])\n",
        "sentences = np.array(list(map(lambda s:np.array(list(map(lambda c: char2idx[c],s))),sentences)))\n",
        "model.predict(sentences)"
      ]
    },
    {
      "cell_type": "code",
      "execution_count": null,
      "metadata": {
        "colab": {
          "base_uri": "https://localhost:8080/"
        },
        "id": "sf84zkOhev0n",
        "outputId": "39eee21f-8b86-4633-bc35-9e8412e5fbb3"
      },
      "outputs": [
        {
          "data": {
            "text/plain": [
              "numpy.ndarray"
            ]
          },
          "execution_count": 48,
          "metadata": {
            "tags": []
          },
          "output_type": "execute_result"
        }
      ],
      "source": []
    },
    {
      "cell_type": "code",
      "execution_count": null,
      "metadata": {
        "id": "0NDwQmOVfAgm"
      },
      "outputs": [],
      "source": []
    }
  ],
  "metadata": {
    "accelerator": "GPU",
    "colab": {
      "collapsed_sections": [],
      "name": "extrator.ipynb",
      "provenance": []
    },
    "kernelspec": {
      "display_name": "Python 3",
      "language": "python",
      "name": "python3"
    },
    "language_info": {
      "name": "python",
      "version": "3.8.3"
    }
  },
  "nbformat": 4,
  "nbformat_minor": 0
}