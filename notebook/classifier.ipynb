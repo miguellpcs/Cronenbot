{
 "cells": [
  {
   "cell_type": "markdown",
   "metadata": {},
   "source": [
    "# Cronenberg Movie Assistent "
   ]
  },
  {
   "cell_type": "markdown",
   "metadata": {},
   "source": [
    "## Importing dependencies"
   ]
  },
  {
   "cell_type": "code",
   "execution_count": 6,
   "metadata": {},
   "outputs": [],
   "source": [
    "\n",
    "import json\n",
    "import os\n",
    "import numpy as np\n",
    "import random\n",
    "import matplotlib.pyplot as plt\n",
    "\n"
   ]
  },
  {
   "cell_type": "markdown",
   "metadata": {},
   "source": [
    "## Loading files paths\n"
   ]
  },
  {
   "cell_type": "code",
   "execution_count": 7,
   "metadata": {},
   "outputs": [],
   "source": [
    "\n",
    "train_paths = []\n",
    "trainset_path = '../../dstc8-schema-guided-dialogue/train/'\n",
    "for file in os.listdir(trainset_path):\n",
    "    if file != 'schema.json':\n",
    "        with open(os.path.join(trainset_path, file), 'r') as json_file:\n",
    "            for example in json.load(json_file):\n",
    "                train_paths.append(example)\n",
    "\n",
    "\n",
    "test_paths = []\n",
    "testset_path = '../../dstc8-schema-guided-dialogue/test/'\n",
    "for file in os.listdir(testset_path):\n",
    "    if file != 'schema.json':\n",
    "        with open(os.path.join(testset_path, file), 'r') as json_file:\n",
    "            for example in json.load(json_file):\n",
    "                test_paths.append(example)"
   ]
  },
  {
   "cell_type": "markdown",
   "metadata": {},
   "source": [
    "## Parsing data "
   ]
  },
  {
   "cell_type": "code",
   "execution_count": 8,
   "metadata": {},
   "outputs": [],
   "source": [
    "\n",
    "\n",
    "train_sentences_0 = []\n",
    "train_sentences_1 = []\n",
    "\n",
    "others_train_sentences = []\n",
    "none_train_sentences = []\n",
    "\n",
    "intents = {'FindMovies':0, 'PlayMovie':0, 'NONE':0, 'others':0}\n",
    "for dialogue in train_paths:\n",
    "    for idx in range(0, len(dialogue['turns']), 2):\n",
    "        sentence = dialogue['turns'][idx]['utterance']\n",
    "        intent = dialogue['turns'][idx]['frames'][0]['state']['active_intent']\n",
    "\n",
    "        if intent not in ['FindMovies', 'PlayMovie', 'NONE']:\n",
    "          intents['others'] += 1\n",
    "          others_train_sentences.append(sentence)\n",
    "          pass\n",
    "        else:\n",
    "          if intent == 'FindMovies':\n",
    "            intents['FindMovies'] += 1\n",
    "            train_sentences_0.append(sentence)\n",
    "          elif intent == 'PlayMovie':\n",
    "            intents['PlayMovie'] += 1\n",
    "            train_sentences_1.append(sentence)\n",
    "          else:\n",
    "            none_train_sentences.append(sentence)\n",
    "            intents['NONE'] += 1\n",
    "#print(intents)\n",
    "#print(len(train_sentences_0),len(train_sentences_1), len(none_train_sentences),len(others_train_sentences))\n",
    "#plt.bar(intents.keys(), intents.values(), 1.0, color='g')\n",
    "            \n",
    "\n",
    "\n"
   ]
  },
  {
   "cell_type": "code",
   "execution_count": 9,
   "metadata": {},
   "outputs": [
    {
     "name": "stdout",
     "output_type": "stream",
     "text": [
      "{'FindMovies': 6179, 'PlayMovie': 2579, 'NONE': 11971, 'others': 144253}\n",
      "1744 824 2911 36818\n"
     ]
    }
   ],
   "source": [
    "\n",
    "test_intents = []\n",
    "test_sentences_0 = []\n",
    "test_sentences_1 = []\n",
    "\n",
    "others_test_sentences = []\n",
    "none_test_sentences = []\n",
    "for dialogue in test_paths:\n",
    "\n",
    "    for idx in range(0, len(dialogue['turns']), 2):\n",
    "        sentence = dialogue['turns'][idx]['utterance']\n",
    "        intent = dialogue['turns'][idx]['frames'][0]['state']['active_intent']\n",
    "\n",
    "        if intent not in ['FindMovies', 'PlayMovie', 'NONE']:\n",
    "          others_test_sentences.append(sentence)\n",
    "          pass\n",
    "        else:\n",
    "          if intent == 'FindMovies':\n",
    "        \n",
    "            test_sentences_0.append(sentence)\n",
    "          elif intent == 'PlayMovie':\n",
    "        \n",
    "            test_sentences_1.append(sentence)\n",
    "          else:\n",
    "            none_test_sentences.append(sentence)\n",
    "            \n",
    "print(intents)\n",
    "print(len(test_sentences_0),len(test_sentences_1), len(none_test_sentences),len(others_test_sentences))"
   ]
  },
  {
   "cell_type": "markdown",
   "metadata": {},
   "source": [
    "## Balacing dataset"
   ]
  },
  {
   "cell_type": "code",
   "execution_count": 10,
   "metadata": {},
   "outputs": [
    {
     "name": "stdout",
     "output_type": "stream",
     "text": [
      "2579\n",
      "12895 12895\n"
     ]
    },
    {
     "data": {
      "text/plain": "(array([2579.,    0.,    0., 2579.,    0.,    0., 2579.,    0.,    0.,\n        5158.]),\n array([0. , 0.3, 0.6, 0.9, 1.2, 1.5, 1.8, 2.1, 2.4, 2.7, 3. ]),\n <a list of 10 Patch objects>)"
     },
     "execution_count": 10,
     "metadata": {},
     "output_type": "execute_result"
    },
    {
     "data": {
      "image/png": "[encoded data removed]",
      "text/plain": "<Figure size 432x288 with 1 Axes>"
     },
     "metadata": {
      "needs_background": "light"
     },
     "output_type": "display_data"
    }
   ],
   "source": [
    "min_val = min(intents.values())\n",
    "print(min_val)\n",
    "\n",
    "input_train = []\n",
    "target_train = []\n",
    "\n",
    "\n",
    "input_train.extend(train_sentences_0[:min_val])\n",
    "target_train.extend([\"find_movie\" for _ in range(min_val)])\n",
    "\n",
    "\n",
    "input_train.extend(train_sentences_1[:min_val])\n",
    "target_train.extend([\"play_movie\" for _ in range(min_val)])\n",
    "\n",
    "\n",
    "\n",
    "input_train.extend(none_train_sentences[:min_val])\n",
    "target_train.extend([\"end_chat\" for _ in range(min_val)])\n",
    "\n",
    "input_train.extend(others_train_sentences[:2*min_val])\n",
    "target_train.extend([\"others\" for _ in range(2*min_val)])\n",
    "\n",
    "\n",
    "print(len(input_train), len(target_train))\n",
    "#print(input_train[12672], target_train[12672])\n",
    "plt.hist(target_train)\n"
   ]
  },
  {
   "cell_type": "code",
   "execution_count": 11,
   "metadata": {},
   "outputs": [
    {
     "name": "stdout",
     "output_type": "stream",
     "text": [
      "7951 7951\n"
     ]
    }
   ],
   "source": [
    "\n",
    "\n",
    "input_test = []\n",
    "target_test = []\n",
    "\n",
    "\n",
    "input_test.extend(test_sentences_0)\n",
    "target_test.extend([\"find_movie\" for _ in range(len(test_sentences_0))])\n",
    "\n",
    "input_test.extend(test_sentences_1)\n",
    "target_test.extend([\"play_movie\" for _ in range(len(test_sentences_1))])\n",
    "\n",
    "input_test.extend(none_test_sentences)\n",
    "target_test.extend([\"end_chat\" for _ in range(len(none_test_sentences))])\n",
    "\n",
    "\n",
    "input_test.extend(others_test_sentences[:3*len(test_sentences_1)])\n",
    "target_test.extend([\"others\" for _ in range(3*len(test_sentences_1))])\n",
    "\n",
    "print(len(input_test),len(target_test))"
   ]
  },
  {
   "cell_type": "markdown",
   "metadata": {},
   "source": [
    "## Tokenizing"
   ]
  },
  {
   "cell_type": "code",
   "execution_count": 12,
   "metadata": {},
   "outputs": [],
   "source": [
    "from tensorflow.python.keras.preprocessing.text import Tokenizer\n",
    "from tensorflow.python.keras.preprocessing.sequence import pad_sequences\n",
    "\n",
    "max_num_words = 40000\n",
    "classes = ['find_movie',\"play_movie\",\"end_chat\",\"others\"]\n",
    "\n",
    "tokenizer = Tokenizer(num_words=max_num_words)\n",
    "tokenizer.fit_on_texts(input_train)\n",
    "word_index = tokenizer.word_index"
   ]
  },
  {
   "cell_type": "code",
   "execution_count": 13,
   "metadata": {},
   "outputs": [],
   "source": [
    "ls=[]\n",
    "for c in input_train:\n",
    "    ls.append(len(c.split()))\n",
    "maxLen=int(np.percentile(ls, 98))\n",
    "train_sequences = tokenizer.texts_to_sequences(input_train)\n",
    "train_sequences = pad_sequences(train_sequences, maxlen=maxLen,              padding='post')\n",
    "\n",
    "test_sequences = tokenizer.texts_to_sequences(input_test)\n",
    "test_sequences = pad_sequences(test_sequences, maxlen=maxLen, padding='post')\n"
   ]
  },
  {
   "cell_type": "markdown",
   "metadata": {},
   "source": [
    "## Enconding"
   ]
  },
  {
   "cell_type": "code",
   "execution_count": 14,
   "metadata": {},
   "outputs": [],
   "source": [
    "from sklearn.preprocessing import OneHotEncoder,LabelEncoder\n",
    "\n",
    "label_encoder = LabelEncoder()\n",
    "integer_encoded = label_encoder.fit_transform(classes)\n",
    "\n",
    "onehot_encoder = OneHotEncoder(sparse=False)\n",
    "integer_encoded = integer_encoded.reshape(len(integer_encoded), 1)\n",
    "onehot_encoder.fit(integer_encoded)\n",
    "train_label_encoded = label_encoder.transform(target_train)\n",
    "train_label_encoded = train_label_encoded.reshape(len(train_label_encoded), 1)\n",
    "train_label = onehot_encoder.transform(train_label_encoded)\n",
    "\n",
    "\n",
    "test_labels_encoded = label_encoder.transform(target_test)\n",
    "test_labels_encoded = test_labels_encoded.reshape(len(test_labels_encoded), 1)\n",
    "test_labels = onehot_encoder.transform(test_labels_encoded)\n",
    "\n",
    "\n"
   ]
  },
  {
   "cell_type": "code",
   "execution_count": 15,
   "metadata": {},
   "outputs": [
    {
     "data": {
      "text/plain": "'glove.6B.100d (1).txt'"
     },
     "execution_count": 15,
     "metadata": {},
     "output_type": "execute_result"
    }
   ],
   "source": [
    "import wget\n",
    "url ='https://www.dropbox.com/s/a247ju2qsczh0be/glove.6B.100d.txt?dl=1'\n",
    "wget.download(url)"
   ]
  },
  {
   "cell_type": "code",
   "execution_count": 16,
   "metadata": {},
   "outputs": [],
   "source": [
    "embeddings_index={}\n",
    "with open('glove.6B.100d.txt', encoding='utf8') as f:\n",
    "    for line in f:\n",
    "        values = line.split()\n",
    "        word = values[0]\n",
    "        coefs = np.asarray(values[1:], dtype='float32')\n",
    "        embeddings_index[word] = coefs"
   ]
  },
  {
   "cell_type": "code",
   "execution_count": 17,
   "metadata": {},
   "outputs": [
    {
     "name": "stderr",
     "output_type": "stream",
     "text": [
      "/home/dclm/anaconda3/lib/python3.8/site-packages/IPython/core/interactiveshell.py:3263: FutureWarning: arrays to stack must be passed as a \"sequence\" type such as list or tuple. Support for non-sequence iterables such as generators is deprecated as of NumPy 1.16 and will raise an error in the future.\n",
      "  if (await self.run_code(code, result,  async_=asy)):\n"
     ]
    }
   ],
   "source": [
    "\n",
    "all_embs = np.stack(embeddings_index.values())\n",
    "emb_mean,emb_std = all_embs.mean(), all_embs.std()\n",
    "num_words = min(max_num_words, len(word_index))+1\n",
    "embedding_dim=len(embeddings_index['the'])\n",
    "embedding_matrix = np.random.normal(emb_mean, emb_std, (num_words, embedding_dim))\n",
    "for word, i in word_index.items():\n",
    "    if i >= max_num_words:\n",
    "        break\n",
    "    embedding_vector = embeddings_index.get(word)\n",
    "    if embedding_vector is not None:\n",
    "        embedding_matrix[i] = embedding_vector\n"
   ]
  },
  {
   "cell_type": "markdown",
   "metadata": {},
   "source": [
    "## Creating Model"
   ]
  },
  {
   "cell_type": "code",
   "execution_count": 18,
   "metadata": {},
   "outputs": [],
   "source": [
    "from tensorflow.python.keras.models import Sequential\n",
    "from tensorflow.python.keras.layers import Dense, Input, Dropout, LSTM, Activation, Bidirectional,Embedding\n",
    "from tensorflow.nn import leaky_relu\n",
    "classes = np.array(classes)\n",
    "model = Sequential()\n",
    "\n",
    "model.add(Embedding(num_words, 100, trainable=False,input_length=train_sequences.shape[1], weights=[embedding_matrix]))\n",
    "model.add(Bidirectional(LSTM(512, return_sequences=True, recurrent_dropout=0.1, dropout=0.1), 'concat'))\n",
    "model.add(Dropout(0.2))\n",
    "model.add(LSTM(512, return_sequences=False, recurrent_dropout=0.1, dropout=0.1))\n",
    "model.add(Dropout(0.2))\n",
    "model.add(Dense(50, activation=leaky_relu))\n",
    "model.add(Dropout(0.2))\n",
    "model.add(Dense(classes.shape[0], activation='softmax'))\n",
    "model.compile(loss='categorical_crossentropy', optimizer='adam', metrics=['acc'])"
   ]
  },
  {
   "cell_type": "code",
   "execution_count": 23,
   "metadata": {},
   "outputs": [
    {
     "data": {
      "image/png": "[encoded data removed]",
      "text/plain": "<IPython.core.display.Image object>"
     },
     "execution_count": 23,
     "metadata": {},
     "output_type": "execute_result"
    }
   ],
   "source": [
    "import pydot\\\n",
    "from keras.utils.vis_utils import plot_model\n",
    "plot_model(model, to_file='model_plot.png', show_shapes=True, rankdir='LR',show_layer_names=True)"
   ]
  },
  {
   "cell_type": "markdown",
   "metadata": {},
   "source": [
    "## Training"
   ]
  },
  {
   "cell_type": "code",
   "execution_count": null,
   "metadata": {},
   "outputs": [],
   "source": []
  },
  {
   "cell_type": "code",
   "execution_count": 24,
   "metadata": {},
   "outputs": [
    {
     "name": "stdout",
     "output_type": "stream",
     "text": [
      "Epoch 1/100\n",
      "202/202 [==============================] - 28s 137ms/step - loss: 0.9173 - acc: 0.6181 - val_loss: 0.0000e+00 - val_acc: 0.0000e+00\n",
      "Epoch 2/100\n",
      "202/202 [==============================] - 28s 136ms/step - loss: 0.5583 - acc: 0.7926 - val_loss: 0.0000e+00 - val_acc: 0.0000e+00\n",
      "Epoch 3/100\n",
      "202/202 [==============================] - 29s 144ms/step - loss: 0.4388 - acc: 0.8323 - val_loss: 0.0000e+00 - val_acc: 0.0000e+00\n",
      "Epoch 4/100\n",
      "202/202 [==============================] - 29s 144ms/step - loss: 0.3403 - acc: 0.8637 - val_loss: 0.0000e+00 - val_acc: 0.0000e+00\n",
      "Epoch 5/100\n",
      "202/202 [==============================] - 29s 144ms/step - loss: 0.3058 - acc: 0.8737 - val_loss: 0.0000e+00 - val_acc: 0.0000e+00\n",
      "Epoch 6/100\n",
      "202/202 [==============================] - 29s 143ms/step - loss: 0.2755 - acc: 0.8859 - val_loss: 0.0000e+00 - val_acc: 0.0000e+00\n",
      "Epoch 7/100\n",
      "202/202 [==============================] - 31s 152ms/step - loss: 0.2675 - acc: 0.8886 - val_loss: 0.0000e+00 - val_acc: 0.0000e+00\n",
      "Epoch 8/100\n",
      "202/202 [==============================] - 29s 145ms/step - loss: 0.2403 - acc: 0.9000 - val_loss: 0.0000e+00 - val_acc: 0.0000e+00\n",
      "Epoch 9/100\n",
      "202/202 [==============================] - 29s 144ms/step - loss: 0.2370 - acc: 0.8981 - val_loss: 0.0000e+00 - val_acc: 0.0000e+00\n",
      "Epoch 10/100\n",
      "202/202 [==============================] - 30s 146ms/step - loss: 0.2208 - acc: 0.9044 - val_loss: 0.0000e+00 - val_acc: 0.0000e+00\n",
      "Epoch 11/100\n",
      "202/202 [==============================] - 30s 148ms/step - loss: 0.2106 - acc: 0.9102 - val_loss: 0.0000e+00 - val_acc: 0.0000e+00\n",
      "Epoch 12/100\n",
      "202/202 [==============================] - 30s 146ms/step - loss: 0.1975 - acc: 0.9122 - val_loss: 0.0000e+00 - val_acc: 0.0000e+00\n",
      "Epoch 13/100\n",
      "202/202 [==============================] - 30s 149ms/step - loss: 0.1978 - acc: 0.9149 - val_loss: 0.0000e+00 - val_acc: 0.0000e+00\n",
      "Epoch 14/100\n",
      "202/202 [==============================] - 30s 147ms/step - loss: 0.1882 - acc: 0.9183 - val_loss: 0.0000e+00 - val_acc: 0.0000e+00\n",
      "Epoch 15/100\n",
      "202/202 [==============================] - 30s 147ms/step - loss: 0.1833 - acc: 0.9201 - val_loss: 0.0000e+00 - val_acc: 0.0000e+00\n",
      "Epoch 16/100\n",
      "202/202 [==============================] - 29s 144ms/step - loss: 0.1777 - acc: 0.9231 - val_loss: 0.0000e+00 - val_acc: 0.0000e+00\n",
      "Epoch 17/100\n",
      "202/202 [==============================] - 30s 147ms/step - loss: 0.1729 - acc: 0.9242 - val_loss: 0.0000e+00 - val_acc: 0.0000e+00\n",
      "Epoch 18/100\n",
      "202/202 [==============================] - 30s 150ms/step - loss: 0.1631 - acc: 0.9268 - val_loss: 0.0000e+00 - val_acc: 0.0000e+00\n",
      "Epoch 19/100\n",
      "202/202 [==============================] - 30s 147ms/step - loss: 0.1613 - acc: 0.9287 - val_loss: 0.0000e+00 - val_acc: 0.0000e+00\n",
      "Epoch 20/100\n",
      "202/202 [==============================] - 30s 147ms/step - loss: 0.1564 - acc: 0.9316 - val_loss: 0.0000e+00 - val_acc: 0.0000e+00\n",
      "Epoch 21/100\n",
      "202/202 [==============================] - 30s 147ms/step - loss: 0.1562 - acc: 0.9321 - val_loss: 0.0000e+00 - val_acc: 0.0000e+00\n",
      "Epoch 22/100\n",
      "202/202 [==============================] - 30s 146ms/step - loss: 0.1447 - acc: 0.9349 - val_loss: 0.0000e+00 - val_acc: 0.0000e+00\n",
      "Epoch 23/100\n",
      "202/202 [==============================] - 30s 147ms/step - loss: 0.1394 - acc: 0.9363 - val_loss: 0.0000e+00 - val_acc: 0.0000e+00\n",
      "Epoch 24/100\n",
      "202/202 [==============================] - 30s 146ms/step - loss: 0.1380 - acc: 0.9373 - val_loss: 0.0000e+00 - val_acc: 0.0000e+00\n",
      "Epoch 25/100\n",
      "202/202 [==============================] - 30s 151ms/step - loss: 0.1341 - acc: 0.9392 - val_loss: 0.0000e+00 - val_acc: 0.0000e+00\n",
      "Epoch 26/100\n",
      "202/202 [==============================] - 29s 146ms/step - loss: 0.1318 - acc: 0.9388 - val_loss: 0.0000e+00 - val_acc: 0.0000e+00\n",
      "Epoch 27/100\n",
      "202/202 [==============================] - 29s 144ms/step - loss: 0.1353 - acc: 0.9392 - val_loss: 0.0000e+00 - val_acc: 0.0000e+00\n",
      "Epoch 28/100\n",
      "202/202 [==============================] - 30s 148ms/step - loss: 0.1259 - acc: 0.9419 - val_loss: 0.0000e+00 - val_acc: 0.0000e+00\n",
      "Epoch 29/100\n",
      "202/202 [==============================] - 29s 143ms/step - loss: 0.1248 - acc: 0.9438 - val_loss: 0.0000e+00 - val_acc: 0.0000e+00\n",
      "Epoch 30/100\n",
      "202/202 [==============================] - 30s 148ms/step - loss: 0.1203 - acc: 0.9413 - val_loss: 0.0000e+00 - val_acc: 0.0000e+00\n",
      "Epoch 31/100\n",
      "202/202 [==============================] - 30s 146ms/step - loss: 0.1216 - acc: 0.9417 - val_loss: 0.0000e+00 - val_acc: 0.0000e+00\n",
      "Epoch 32/100\n",
      "202/202 [==============================] - 30s 148ms/step - loss: 0.1261 - acc: 0.9410 - val_loss: 0.0000e+00 - val_acc: 0.0000e+00\n",
      "Epoch 33/100\n",
      "202/202 [==============================] - 30s 147ms/step - loss: 0.1226 - acc: 0.9449 - val_loss: 0.0000e+00 - val_acc: 0.0000e+00\n",
      "Epoch 34/100\n",
      "202/202 [==============================] - 30s 147ms/step - loss: 0.1173 - acc: 0.9449 - val_loss: 0.0000e+00 - val_acc: 0.0000e+00\n",
      "Epoch 35/100\n",
      "202/202 [==============================] - 30s 149ms/step - loss: 0.1174 - acc: 0.9442 - val_loss: 0.0000e+00 - val_acc: 0.0000e+00\n",
      "Epoch 36/100\n",
      "202/202 [==============================] - 29s 146ms/step - loss: 0.1173 - acc: 0.9458 - val_loss: 0.0000e+00 - val_acc: 0.0000e+00\n",
      "Epoch 37/100\n",
      "202/202 [==============================] - 30s 149ms/step - loss: 0.1075 - acc: 0.9491 - val_loss: 0.0000e+00 - val_acc: 0.0000e+00\n",
      "Epoch 38/100\n",
      "202/202 [==============================] - 29s 145ms/step - loss: 0.1118 - acc: 0.9460 - val_loss: 0.0000e+00 - val_acc: 0.0000e+00\n",
      "Epoch 39/100\n",
      "202/202 [==============================] - 30s 148ms/step - loss: 0.1072 - acc: 0.9500 - val_loss: 0.0000e+00 - val_acc: 0.0000e+00\n",
      "Epoch 40/100\n",
      "202/202 [==============================] - 29s 143ms/step - loss: 0.1108 - acc: 0.9467 - val_loss: 0.0000e+00 - val_acc: 0.0000e+00\n",
      "Epoch 41/100\n",
      "202/202 [==============================] - 30s 147ms/step - loss: 0.1075 - acc: 0.9500 - val_loss: 0.0000e+00 - val_acc: 0.0000e+00\n",
      "Epoch 42/100\n",
      "202/202 [==============================] - 30s 147ms/step - loss: 0.1049 - acc: 0.9493 - val_loss: 0.0000e+00 - val_acc: 0.0000e+00\n",
      "Epoch 43/100\n",
      "202/202 [==============================] - 30s 147ms/step - loss: 0.1022 - acc: 0.9508 - val_loss: 0.0000e+00 - val_acc: 0.0000e+00\n",
      "Epoch 44/100\n",
      "202/202 [==============================] - 30s 147ms/step - loss: 0.1070 - acc: 0.9511 - val_loss: 0.0000e+00 - val_acc: 0.0000e+00\n",
      "Epoch 45/100\n",
      "202/202 [==============================] - 30s 147ms/step - loss: 0.1021 - acc: 0.9531 - val_loss: 0.0000e+00 - val_acc: 0.0000e+00\n",
      "Epoch 46/100\n",
      "202/202 [==============================] - 30s 149ms/step - loss: 0.0990 - acc: 0.9525 - val_loss: 0.0000e+00 - val_acc: 0.0000e+00\n",
      "Epoch 47/100\n",
      "202/202 [==============================] - 29s 146ms/step - loss: 0.1005 - acc: 0.9509 - val_loss: 0.0000e+00 - val_acc: 0.0000e+00\n",
      "Epoch 48/100\n",
      "202/202 [==============================] - 30s 148ms/step - loss: 0.1008 - acc: 0.9507 - val_loss: 0.0000e+00 - val_acc: 0.0000e+00\n",
      "Epoch 49/100\n",
      "202/202 [==============================] - 29s 145ms/step - loss: 0.0947 - acc: 0.9555 - val_loss: 0.0000e+00 - val_acc: 0.0000e+00\n",
      "Epoch 50/100\n",
      "202/202 [==============================] - 30s 148ms/step - loss: 0.0983 - acc: 0.9512 - val_loss: 0.0000e+00 - val_acc: 0.0000e+00\n",
      "Epoch 51/100\n",
      "202/202 [==============================] - 32s 157ms/step - loss: 0.0945 - acc: 0.9539 - val_loss: 0.0000e+00 - val_acc: 0.0000e+00\n",
      "Epoch 52/100\n",
      "202/202 [==============================] - 30s 147ms/step - loss: 0.0918 - acc: 0.9563 - val_loss: 0.0000e+00 - val_acc: 0.0000e+00\n",
      "Epoch 53/100\n",
      "202/202 [==============================] - 29s 145ms/step - loss: 0.0995 - acc: 0.9528 - val_loss: 0.0000e+00 - val_acc: 0.0000e+00\n",
      "Epoch 54/100\n",
      "202/202 [==============================] - 30s 149ms/step - loss: 0.1021 - acc: 0.9518 - val_loss: 0.0000e+00 - val_acc: 0.0000e+00\n",
      "Epoch 55/100\n",
      "202/202 [==============================] - 29s 145ms/step - loss: 0.0977 - acc: 0.9532 - val_loss: 0.0000e+00 - val_acc: 0.0000e+00\n",
      "Epoch 56/100\n",
      "202/202 [==============================] - 30s 147ms/step - loss: 0.0922 - acc: 0.9540 - val_loss: 0.0000e+00 - val_acc: 0.0000e+00\n",
      "Epoch 57/100\n",
      "202/202 [==============================] - 30s 149ms/step - loss: 0.0930 - acc: 0.9563 - val_loss: 0.0000e+00 - val_acc: 0.0000e+00\n",
      "Epoch 58/100\n",
      "202/202 [==============================] - 30s 146ms/step - loss: 0.0929 - acc: 0.9553 - val_loss: 0.0000e+00 - val_acc: 0.0000e+00\n",
      "Epoch 59/100\n",
      "202/202 [==============================] - 31s 153ms/step - loss: 0.0926 - acc: 0.9563 - val_loss: 0.0000e+00 - val_acc: 0.0000e+00\n",
      "Epoch 60/100\n",
      "202/202 [==============================] - 30s 149ms/step - loss: 0.0914 - acc: 0.9549 - val_loss: 0.0000e+00 - val_acc: 0.0000e+00\n",
      "Epoch 61/100\n",
      "202/202 [==============================] - 29s 145ms/step - loss: 0.0903 - acc: 0.9571 - val_loss: 0.0000e+00 - val_acc: 0.0000e+00\n",
      "Epoch 62/100\n",
      "202/202 [==============================] - 30s 149ms/step - loss: 0.0937 - acc: 0.9567 - val_loss: 0.0000e+00 - val_acc: 0.0000e+00\n",
      "Epoch 63/100\n",
      "202/202 [==============================] - 32s 157ms/step - loss: 0.0925 - acc: 0.9554 - val_loss: 0.0000e+00 - val_acc: 0.0000e+00\n",
      "Epoch 64/100\n",
      "202/202 [==============================] - 30s 147ms/step - loss: 0.0902 - acc: 0.9553 - val_loss: 0.0000e+00 - val_acc: 0.0000e+00\n",
      "Epoch 65/100\n",
      "202/202 [==============================] - 30s 149ms/step - loss: 0.0883 - acc: 0.9576 - val_loss: 0.0000e+00 - val_acc: 0.0000e+00\n",
      "Epoch 66/100\n",
      "202/202 [==============================] - 29s 143ms/step - loss: 0.0872 - acc: 0.9581 - val_loss: 0.0000e+00 - val_acc: 0.0000e+00\n",
      "Epoch 67/100\n",
      "202/202 [==============================] - 30s 148ms/step - loss: 0.0920 - acc: 0.9556 - val_loss: 0.0000e+00 - val_acc: 0.0000e+00\n",
      "Epoch 68/100\n",
      "202/202 [==============================] - 30s 147ms/step - loss: 0.0886 - acc: 0.9561 - val_loss: 0.0000e+00 - val_acc: 0.0000e+00\n",
      "Epoch 69/100\n",
      "202/202 [==============================] - 29s 146ms/step - loss: 0.0885 - acc: 0.9565 - val_loss: 0.0000e+00 - val_acc: 0.0000e+00\n",
      "Epoch 70/100\n",
      "202/202 [==============================] - 30s 146ms/step - loss: 0.0870 - acc: 0.9568 - val_loss: 0.0000e+00 - val_acc: 0.0000e+00\n",
      "Epoch 71/100\n",
      "202/202 [==============================] - 30s 147ms/step - loss: 0.0904 - acc: 0.9556 - val_loss: 0.0000e+00 - val_acc: 0.0000e+00\n",
      "Epoch 72/100\n",
      "202/202 [==============================] - 30s 149ms/step - loss: 0.0907 - acc: 0.9565 - val_loss: 0.0000e+00 - val_acc: 0.0000e+00\n",
      "Epoch 73/100\n",
      "202/202 [==============================] - 32s 157ms/step - loss: 0.0888 - acc: 0.9571 - val_loss: 0.0000e+00 - val_acc: 0.0000e+00\n",
      "Epoch 74/100\n",
      "202/202 [==============================] - 30s 147ms/step - loss: 0.0870 - acc: 0.9585 - val_loss: 0.0000e+00 - val_acc: 0.0000e+00\n",
      "Epoch 75/100\n",
      "202/202 [==============================] - 30s 148ms/step - loss: 0.0864 - acc: 0.9581 - val_loss: 0.0000e+00 - val_acc: 0.0000e+00\n",
      "Epoch 76/100\n",
      "202/202 [==============================] - 29s 145ms/step - loss: 0.0897 - acc: 0.9570 - val_loss: 0.0000e+00 - val_acc: 0.0000e+00\n",
      "Epoch 77/100\n",
      "202/202 [==============================] - 30s 148ms/step - loss: 0.0838 - acc: 0.9585 - val_loss: 0.0000e+00 - val_acc: 0.0000e+00\n",
      "Epoch 78/100\n",
      "202/202 [==============================] - 30s 146ms/step - loss: 0.0843 - acc: 0.9597 - val_loss: 0.0000e+00 - val_acc: 0.0000e+00\n",
      "Epoch 79/100\n",
      "202/202 [==============================] - 30s 146ms/step - loss: 0.0838 - acc: 0.9585 - val_loss: 0.0000e+00 - val_acc: 0.0000e+00\n",
      "Epoch 80/100\n",
      "202/202 [==============================] - 30s 149ms/step - loss: 0.0889 - acc: 0.9580 - val_loss: 0.0000e+00 - val_acc: 0.0000e+00\n",
      "Epoch 81/100\n",
      "202/202 [==============================] - 29s 146ms/step - loss: 0.0822 - acc: 0.9594 - val_loss: 0.0000e+00 - val_acc: 0.0000e+00\n",
      "Epoch 82/100\n",
      "202/202 [==============================] - 30s 149ms/step - loss: 0.0830 - acc: 0.9582 - val_loss: 0.0000e+00 - val_acc: 0.0000e+00\n",
      "Epoch 83/100\n",
      "202/202 [==============================] - 30s 147ms/step - loss: 0.0837 - acc: 0.9594 - val_loss: 0.0000e+00 - val_acc: 0.0000e+00\n",
      "Epoch 84/100\n",
      "202/202 [==============================] - 30s 147ms/step - loss: 0.0870 - acc: 0.9587 - val_loss: 0.0000e+00 - val_acc: 0.0000e+00\n",
      "Epoch 85/100\n",
      "202/202 [==============================] - 29s 144ms/step - loss: 0.0853 - acc: 0.9582 - val_loss: 0.0000e+00 - val_acc: 0.0000e+00\n",
      "Epoch 86/100\n",
      "202/202 [==============================] - 30s 148ms/step - loss: 0.0835 - acc: 0.9587 - val_loss: 0.0000e+00 - val_acc: 0.0000e+00\n",
      "Epoch 87/100\n",
      "202/202 [==============================] - 30s 146ms/step - loss: 0.0876 - acc: 0.9575 - val_loss: 0.0000e+00 - val_acc: 0.0000e+00\n",
      "Epoch 88/100\n",
      "202/202 [==============================] - 30s 148ms/step - loss: 0.0888 - acc: 0.9577 - val_loss: 0.0000e+00 - val_acc: 0.0000e+00\n",
      "Epoch 89/100\n",
      "202/202 [==============================] - 29s 144ms/step - loss: 0.0835 - acc: 0.9595 - val_loss: 0.0000e+00 - val_acc: 0.0000e+00\n",
      "Epoch 90/100\n",
      "202/202 [==============================] - 30s 150ms/step - loss: 0.0814 - acc: 0.9599 - val_loss: 0.0000e+00 - val_acc: 0.0000e+00\n",
      "Epoch 91/100\n",
      "202/202 [==============================] - 30s 147ms/step - loss: 0.0867 - acc: 0.9589 - val_loss: 0.0000e+00 - val_acc: 0.0000e+00\n",
      "Epoch 92/100\n",
      "202/202 [==============================] - 30s 147ms/step - loss: 0.0813 - acc: 0.9592 - val_loss: 0.0000e+00 - val_acc: 0.0000e+00\n",
      "Epoch 93/100\n",
      "202/202 [==============================] - 30s 149ms/step - loss: 0.0813 - acc: 0.9590 - val_loss: 0.0000e+00 - val_acc: 0.0000e+00\n",
      "Epoch 94/100\n",
      "202/202 [==============================] - 32s 157ms/step - loss: 0.0791 - acc: 0.9613 - val_loss: 0.0000e+00 - val_acc: 0.0000e+00\n",
      "Epoch 95/100\n",
      "202/202 [==============================] - 30s 147ms/step - loss: 0.0811 - acc: 0.9608 - val_loss: 0.0000e+00 - val_acc: 0.0000e+00\n",
      "Epoch 96/100\n",
      "202/202 [==============================] - 30s 149ms/step - loss: 0.0808 - acc: 0.9608 - val_loss: 0.0000e+00 - val_acc: 0.0000e+00\n",
      "Epoch 97/100\n",
      "202/202 [==============================] - 29s 145ms/step - loss: 0.0784 - acc: 0.9604 - val_loss: 0.0000e+00 - val_acc: 0.0000e+00\n",
      "Epoch 98/100\n",
      "202/202 [==============================] - 30s 149ms/step - loss: 0.0850 - acc: 0.9584 - val_loss: 0.0000e+00 - val_acc: 0.0000e+00\n",
      "Epoch 99/100\n",
      "202/202 [==============================] - 29s 145ms/step - loss: 0.0832 - acc: 0.9596 - val_loss: 0.0000e+00 - val_acc: 0.0000e+00\n",
      "Epoch 100/100\n",
      "202/202 [==============================] - 30s 148ms/step - loss: 0.0830 - acc: 0.9582 - val_loss: 0.0000e+00 - val_acc: 0.0000e+00\n"
     ]
    }
   ],
   "source": [
    "history = model.fit(train_sequences, train_label, epochs = 100,\n",
    "          batch_size = 64, shuffle=True, validation_data=[test_sequences,test_labels])"
   ]
  },
  {
   "cell_type": "markdown",
   "metadata": {},
   "source": [
    "## Saving"
   ]
  },
  {
   "cell_type": "code",
   "execution_count": 25,
   "metadata": {},
   "outputs": [],
   "source": [
    "import pickle\n",
    "import json\n",
    "model.save('models/intents_new.h5')\n",
    "\n",
    "with open('utils/classes.pkl','wb') as file:\n",
    "   pickle.dump(classes,file)\n",
    "\n",
    "with open('utils/tokenizer.pkl','wb') as file:\n",
    "   pickle.dump(tokenizer,file)\n",
    "\n",
    "with open('utils/label_encoder.pkl','wb') as file:\n",
    "   pickle.dump(label_encoder,file)"
   ]
  },
  {
   "cell_type": "markdown",
   "metadata": {},
   "source": [
    "## Testing"
   ]
  },
  {
   "cell_type": "code",
   "execution_count": 26,
   "metadata": {},
   "outputs": [],
   "source": [
    "import numpy as np\n",
    "from tensorflow.python.keras.preprocessing.sequence import pad_sequences\n",
    "class IntentClassifier:\n",
    "    def __init__(self,classes,model,tokenizer,label_encoder):\n",
    "        self.classes = classes\n",
    "        self.classifier = model\n",
    "        self.tokenizer = tokenizer\n",
    "        self.label_encoder = label_encoder\n",
    "\n",
    "    def get_intent(self,text):\n",
    "        self.text = [text]\n",
    "        self.test_keras = self.tokenizer.texts_to_sequences(self.text)\n",
    "        self.test_keras_sequence = pad_sequences(self.test_keras, maxlen=16, padding='post')\n",
    "        self.pred = self.classifier.predict(self.test_keras_sequence)\n",
    "        return self.label_encoder.inverse_transform(np.argmax(self.pred,1))[0]"
   ]
  },
  {
   "cell_type": "code",
   "execution_count": 27,
   "metadata": {},
   "outputs": [
    {
     "name": "stdout",
     "output_type": "stream",
     "text": [
      "WARNING:tensorflow:Layer lstm will not use cuDNN kernel since it doesn't meet the cuDNN kernel criteria. It will use generic GPU kernel as fallback when running on GPU\n",
      "WARNING:tensorflow:Layer lstm will not use cuDNN kernel since it doesn't meet the cuDNN kernel criteria. It will use generic GPU kernel as fallback when running on GPU\n",
      "WARNING:tensorflow:Layer lstm will not use cuDNN kernel since it doesn't meet the cuDNN kernel criteria. It will use generic GPU kernel as fallback when running on GPU\n",
      "WARNING:tensorflow:Layer lstm_1 will not use cuDNN kernel since it doesn't meet the cuDNN kernel criteria. It will use generic GPU kernel as fallback when running on GPU\n"
     ]
    }
   ],
   "source": [
    "import pickle\n",
    "\n",
    "from tensorflow.python.keras.models import load_model\n",
    "import tensorflow.nn as nn\n",
    "model = load_model('models/intents_new.h5',custom_objects={'leaky_relu': nn.leaky_relu})\n",
    "\n",
    "with open('utils/classes_new.pkl','rb') as file:\n",
    "  classes = pickle.load(file)\n",
    "\n",
    "with open('utils/tokenizer_new.pkl','rb') as file:\n",
    "  tokenizer = pickle.load(file)\n",
    "\n",
    "with open('utils/label_encoder_new.pkl','rb') as file:\n",
    "  label_encoder = pickle.load(file)"
   ]
  },
  {
   "cell_type": "code",
   "execution_count": 50,
   "metadata": {},
   "outputs": [
    {
     "name": "stdout",
     "output_type": "stream",
     "text": [
      "Phrase: Tell me about headphones\n",
      "Predicted intent: others\n"
     ]
    }
   ],
   "source": [
    "def decode(label):\n",
    "    if label == 0:\n",
    "        return \"find_movie\"\n",
    "    if label == 1: \n",
    "        return \"play_movie\"\n",
    "    if label == 2:\n",
    "        return \"end_chat\"\n",
    "    else:\n",
    "        return \"other\"\n",
    "phrase = \"Tell me about headphones\"\n",
    "nlu = IntentClassifier(classes,model,tokenizer,label_encoder)\n",
    "label = nlu.get_intent(phrase)\n",
    "print(\"Phrase: {}\".format(phrase))\n",
    "print(\"Predicted intent: {}\".format((label)))"
   ]
  }
 ],
 "metadata": {
  "kernelspec": {
   "display_name": "Python 3",
   "language": "python",
   "name": "python3"
  },
  "language_info": {
   "codemirror_mode": {
    "name": "ipython",
    "version": 3
   },
   "file_extension": ".py",
   "mimetype": "text/x-python",
   "name": "python",
   "nbconvert_exporter": "python",
   "pygments_lexer": "ipython3",
   "version": "3.8.3"
  },
  "orig_nbformat": 2
 },
 "nbformat": 4,
 "nbformat_minor": 2
}