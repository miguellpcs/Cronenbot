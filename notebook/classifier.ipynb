{
 "cells": [
  {
   "cell_type": "markdown",
   "metadata": {},
   "source": [
    "# Cronenberg Movie Assistent "
   ]
  },
  {
   "cell_type": "markdown",
   "metadata": {},
   "source": [
    "## Importing dependencies"
   ]
  },
  {
   "cell_type": "code",
   "execution_count": 1,
   "metadata": {},
   "outputs": [],
   "source": [
    "\n",
    "import json\n",
    "import os\n",
    "import numpy as np\n",
    "import random\n",
    "import matplotlib.pyplot as plt\n",
    "\n"
   ]
  },
  {
   "cell_type": "markdown",
   "metadata": {},
   "source": [
    "## Loading files paths\n"
   ]
  },
  {
   "cell_type": "code",
   "execution_count": 5,
   "metadata": {},
   "outputs": [],
   "source": [
    "\n",
    "train_paths = []\n",
    "trainset_path = '../../dstc8-schema-guided-dialogue/train/'\n",
    "for file in os.listdir(trainset_path):\n",
    "    if file != 'schema.json':\n",
    "        with open(os.path.join(trainset_path, file), 'r') as json_file:\n",
    "            for example in json.load(json_file):\n",
    "                train_paths.append(example)\n",
    "\n",
    "\n",
    "test_paths = []\n",
    "testset_path = '../../dstc8-schema-guided-dialogue/test/'\n",
    "for file in os.listdir(testset_path):\n",
    "    if file != 'schema.json':\n",
    "        with open(os.path.join(testset_path, file), 'r') as json_file:\n",
    "            for example in json.load(json_file):\n",
    "                test_paths.append(example)"
   ]
  },
  {
   "cell_type": "markdown",
   "metadata": {},
   "source": [
    "## Parsing data "
   ]
  },
  {
   "cell_type": "code",
   "execution_count": 6,
   "metadata": {},
   "outputs": [],
   "source": [
    "\n",
    "\n",
    "train_sentences_0 = []\n",
    "train_sentences_1 = []\n",
    "\n",
    "others_train_sentences = []\n",
    "none_train_sentences = []\n",
    "\n",
    "intents = {'FindMovies':0, 'PlayMovie':0, 'NONE':0, 'others':0}\n",
    "for dialogue in train_paths:\n",
    "    for idx in range(0, len(dialogue['turns']), 2):\n",
    "        sentence = dialogue['turns'][idx]['utterance']\n",
    "        intent = dialogue['turns'][idx]['frames'][0]['state']['active_intent']\n",
    "\n",
    "        if intent not in ['FindMovies', 'PlayMovie', 'NONE']:\n",
    "          intents['others'] += 1\n",
    "          others_train_sentences.append(sentence)\n",
    "          pass\n",
    "        else:\n",
    "          if intent == 'FindMovies':\n",
    "            intents['FindMovies'] += 1\n",
    "            train_sentences_0.append(sentence)\n",
    "          elif intent == 'PlayMovie':\n",
    "            intents['PlayMovie'] += 1\n",
    "            train_sentences_1.append(sentence)\n",
    "          else:\n",
    "            none_train_sentences.append(sentence)\n",
    "            intents['NONE'] += 1\n",
    "#print(intents)\n",
    "#print(len(train_sentences_0),len(train_sentences_1), len(none_train_sentences),len(others_train_sentences))\n",
    "#plt.bar(intents.keys(), intents.values(), 1.0, color='g')\n",
    "            \n",
    "\n",
    "\n"
   ]
  },
  {
   "cell_type": "code",
   "execution_count": 7,
   "metadata": {},
   "outputs": [
    {
     "name": "stdout",
     "output_type": "stream",
     "text": [
      "{'FindMovies': 6179, 'PlayMovie': 2579, 'NONE': 11971, 'others': 144253}\n",
      "1744 824 2911 36818\n"
     ]
    }
   ],
   "source": [
    "\n",
    "test_intents = []\n",
    "test_sentences_0 = []\n",
    "test_sentences_1 = []\n",
    "\n",
    "others_test_sentences = []\n",
    "none_test_sentences = []\n",
    "for dialogue in test_paths:\n",
    "\n",
    "    for idx in range(0, len(dialogue['turns']), 2):\n",
    "        sentence = dialogue['turns'][idx]['utterance']\n",
    "        intent = dialogue['turns'][idx]['frames'][0]['state']['active_intent']\n",
    "\n",
    "        if intent not in ['FindMovies', 'PlayMovie', 'NONE']:\n",
    "          others_test_sentences.append(sentence)\n",
    "          pass\n",
    "        else:\n",
    "          if intent == 'FindMovies':\n",
    "        \n",
    "            test_sentences_0.append(sentence)\n",
    "          elif intent == 'PlayMovie':\n",
    "        \n",
    "            test_sentences_1.append(sentence)\n",
    "          else:\n",
    "            none_test_sentences.append(sentence)\n",
    "            \n",
    "print(intents)\n",
    "print(len(test_sentences_0),len(test_sentences_1), len(none_test_sentences),len(others_test_sentences))"
   ]
  },
  {
   "cell_type": "markdown",
   "metadata": {},
   "source": [
    "## Balacing dataset"
   ]
  },
  {
   "cell_type": "code",
   "execution_count": 8,
   "metadata": {},
   "outputs": [
    {
     "name": "stdout",
     "output_type": "stream",
     "text": [
      "2579\n",
      "12895 12895\n"
     ]
    },
    {
     "data": {
      "text/plain": "(array([2579.,    0.,    0., 2579.,    0.,    0., 2579.,    0.,    0.,\n        5158.]),\n array([0. , 0.3, 0.6, 0.9, 1.2, 1.5, 1.8, 2.1, 2.4, 2.7, 3. ]),\n <a list of 10 Patch objects>)"
     },
     "execution_count": 8,
     "metadata": {},
     "output_type": "execute_result"
    },
    {
     "data": {
      "image/png": "[encoded data removed]",
      "text/plain": "<Figure size 432x288 with 1 Axes>"
     },
     "metadata": {
      "needs_background": "light"
     },
     "output_type": "display_data"
    }
   ],
   "source": [
    "min_val = min(intents.values())\n",
    "print(min_val)\n",
    "\n",
    "input_train = []\n",
    "target_train = []\n",
    "\n",
    "\n",
    "input_train.extend(train_sentences_0[:min_val])\n",
    "target_train.extend([\"find_movie\" for _ in range(min_val)])\n",
    "\n",
    "\n",
    "input_train.extend(train_sentences_1[:min_val])\n",
    "target_train.extend([\"play_movie\" for _ in range(min_val)])\n",
    "\n",
    "\n",
    "\n",
    "input_train.extend(none_train_sentences[:min_val])\n",
    "target_train.extend([\"end_chat\" for _ in range(min_val)])\n",
    "\n",
    "input_train.extend(others_train_sentences[:2*min_val])\n",
    "target_train.extend([\"others\" for _ in range(2*min_val)])\n",
    "\n",
    "\n",
    "print(len(input_train), len(target_train))\n",
    "#print(input_train[12672], target_train[12672])\n",
    "plt.hist(target_train)\n"
   ]
  },
  {
   "cell_type": "code",
   "execution_count": 9,
   "metadata": {},
   "outputs": [
    {
     "name": "stdout",
     "output_type": "stream",
     "text": [
      "7951 7951\n"
     ]
    }
   ],
   "source": [
    "\n",
    "\n",
    "input_test = []\n",
    "target_test = []\n",
    "\n",
    "\n",
    "input_test.extend(test_sentences_0)\n",
    "target_test.extend([\"find_movie\" for _ in range(len(test_sentences_0))])\n",
    "\n",
    "input_test.extend(test_sentences_1)\n",
    "target_test.extend([\"play_movie\" for _ in range(len(test_sentences_1))])\n",
    "\n",
    "input_test.extend(none_test_sentences)\n",
    "target_test.extend([\"end_chat\" for _ in range(len(none_test_sentences))])\n",
    "\n",
    "\n",
    "input_test.extend(others_test_sentences[:3*len(test_sentences_1)])\n",
    "target_test.extend([\"others\" for _ in range(3*len(test_sentences_1))])\n",
    "\n",
    "print(len(input_test),len(target_test))"
   ]
  },
  {
   "cell_type": "markdown",
   "metadata": {},
   "source": [
    "## Tokenizing"
   ]
  },
  {
   "cell_type": "code",
   "execution_count": 10,
   "metadata": {},
   "outputs": [],
   "source": [
    "from tensorflow.python.keras.preprocessing.text import Tokenizer\n",
    "from tensorflow.python.keras.preprocessing.sequence import pad_sequences\n",
    "\n",
    "max_num_words = 40000\n",
    "classes = ['find_movie',\"play_movie\",\"end_chat\",\"others\"]\n",
    "\n",
    "tokenizer = Tokenizer(num_words=max_num_words)\n",
    "tokenizer.fit_on_texts(input_train)\n",
    "word_index = tokenizer.word_index"
   ]
  },
  {
   "cell_type": "code",
   "execution_count": 11,
   "metadata": {},
   "outputs": [],
   "source": [
    "ls=[]\n",
    "for c in input_train:\n",
    "    ls.append(len(c.split()))\n",
    "maxLen=int(np.percentile(ls, 98))\n",
    "train_sequences = tokenizer.texts_to_sequences(input_train)\n",
    "train_sequences = pad_sequences(train_sequences, maxlen=maxLen,              padding='post')\n",
    "\n",
    "test_sequences = tokenizer.texts_to_sequences(input_test)\n",
    "test_sequences = pad_sequences(test_sequences, maxlen=maxLen, padding='post')\n"
   ]
  },
  {
   "cell_type": "markdown",
   "metadata": {},
   "source": [
    "## Enconding"
   ]
  },
  {
   "cell_type": "code",
   "execution_count": 12,
   "metadata": {},
   "outputs": [],
   "source": [
    "from sklearn.preprocessing import OneHotEncoder,LabelEncoder\n",
    "\n",
    "label_encoder = LabelEncoder()\n",
    "integer_encoded = label_encoder.fit_transform(classes)\n",
    "\n",
    "onehot_encoder = OneHotEncoder(sparse=False)\n",
    "integer_encoded = integer_encoded.reshape(len(integer_encoded), 1)\n",
    "onehot_encoder.fit(integer_encoded)\n",
    "train_label_encoded = label_encoder.transform(target_train)\n",
    "train_label_encoded = train_label_encoded.reshape(len(train_label_encoded), 1)\n",
    "train_label = onehot_encoder.transform(train_label_encoded)\n",
    "\n",
    "\n",
    "test_labels_encoded = label_encoder.transform(target_test)\n",
    "test_labels_encoded = test_labels_encoded.reshape(len(test_labels_encoded), 1)\n",
    "test_labels = onehot_encoder.transform(test_labels_encoded)\n",
    "\n",
    "\n"
   ]
  },
  {
   "cell_type": "code",
   "execution_count": 15,
   "metadata": {},
   "outputs": [
    {
     "data": {
      "text/plain": "'glove.6B.100d.txt'"
     },
     "execution_count": 15,
     "metadata": {},
     "output_type": "execute_result"
    }
   ],
   "source": [
    "import wget\n",
    "url ='https://www.dropbox.com/s/a247ju2qsczh0be/glove.6B.100d.txt?dl=1'\n",
    "wget.download(url)"
   ]
  },
  {
   "cell_type": "code",
   "execution_count": 13,
   "metadata": {},
   "outputs": [],
   "source": [
    "embeddings_index={}\n",
    "with open('glove.6B.100d.txt', encoding='utf8') as f:\n",
    "    for line in f:\n",
    "        values = line.split()\n",
    "        word = values[0]\n",
    "        coefs = np.asarray(values[1:], dtype='float32')\n",
    "        embeddings_index[word] = coefs"
   ]
  },
  {
   "cell_type": "code",
   "execution_count": 14,
   "metadata": {},
   "outputs": [
    {
     "name": "stderr",
     "output_type": "stream",
     "text": [
      "/home/dclm/anaconda3/lib/python3.8/site-packages/IPython/core/interactiveshell.py:3263: FutureWarning: arrays to stack must be passed as a \"sequence\" type such as list or tuple. Support for non-sequence iterables such as generators is deprecated as of NumPy 1.16 and will raise an error in the future.\n",
      "  if (await self.run_code(code, result,  async_=asy)):\n"
     ]
    }
   ],
   "source": [
    "\n",
    "all_embs = np.stack(embeddings_index.values())\n",
    "emb_mean,emb_std = all_embs.mean(), all_embs.std()\n",
    "num_words = min(max_num_words, len(word_index))+1\n",
    "embedding_dim=len(embeddings_index['the'])\n",
    "embedding_matrix = np.random.normal(emb_mean, emb_std, (num_words, embedding_dim))\n",
    "for word, i in word_index.items():\n",
    "    if i >= max_num_words:\n",
    "        break\n",
    "    embedding_vector = embeddings_index.get(word)\n",
    "    if embedding_vector is not None:\n",
    "        embedding_matrix[i] = embedding_vector\n"
   ]
  },
  {
   "cell_type": "markdown",
   "metadata": {},
   "source": [
    "## Creating Model"
   ]
  },
  {
   "cell_type": "code",
   "execution_count": 15,
   "metadata": {},
   "outputs": [],
   "source": [
    "from tensorflow.python.keras.models import Sequential\n",
    "from tensorflow.python.keras.layers import Dense, Input, Dropout, LSTM, Activation, Bidirectional,Embedding\n",
    "from tensorflow.nn import leaky_relu\n",
    "classes = np.array(classes)\n",
    "model = Sequential()\n",
    "\n",
    "model.add(Embedding(num_words, 100, trainable=False,input_length=train_sequences.shape[1], weights=[embedding_matrix]))\n",
    "model.add(Bidirectional(LSTM(512, return_sequences=True, recurrent_dropout=0.1, dropout=0.1), 'concat'))\n",
    "model.add(Dropout(0.2))\n",
    "model.add(LSTM(512, return_sequences=False, recurrent_dropout=0.1, dropout=0.1))\n",
    "model.add(Dropout(0.2))\n",
    "model.add(Dense(50, activation=leaky_relu))\n",
    "model.add(Dropout(0.2))\n",
    "model.add(Dense(classes.shape[0], activation='softmax'))\n",
    "model.compile(loss='categorical_crossentropy', optimizer='adam', metrics=['acc'])"
   ]
  },
  {
   "cell_type": "markdown",
   "metadata": {},
   "source": [
    "## Training"
   ]
  },
  {
   "cell_type": "code",
   "execution_count": 16,
   "metadata": {},
   "outputs": [
    {
     "name": "stdout",
     "output_type": "stream",
     "text": [
      "202/202 [==============================] - 27s 136ms/step - loss: 0.9163 - acc: 0.6261 - val_loss: 0.0000e+00 - val_acc: 0.0000e+00\n"
     ]
    }
   ],
   "source": [
    "history = model.fit(train_sequences, train_label, epochs = 1,\n",
    "          batch_size = 64, shuffle=True, validation_data=[test_sequences,test_labels])"
   ]
  },
  {
   "cell_type": "markdown",
   "metadata": {},
   "source": [
    "## Saving"
   ]
  },
  {
   "cell_type": "code",
   "execution_count": 23,
   "metadata": {},
   "outputs": [],
   "source": [
    "import pickle\n",
    "import json\n",
    "model.save('models/intents.h5')\n",
    "\n",
    "with open('utils/classes.pkl','wb') as file:\n",
    "   pickle.dump(classes,file)\n",
    "\n",
    "with open('utils/tokenizer.pkl','wb') as file:\n",
    "   pickle.dump(tokenizer,file)\n",
    "\n",
    "with open('utils/label_encoder.pkl','wb') as file:\n",
    "   pickle.dump(label_encoder,file)"
   ]
  },
  {
   "cell_type": "markdown",
   "metadata": {},
   "source": [
    "## Testing"
   ]
  },
  {
   "cell_type": "code",
   "execution_count": 17,
   "metadata": {},
   "outputs": [],
   "source": [
    "import numpy as np\n",
    "from tensorflow.python.keras.preprocessing.sequence import pad_sequences\n",
    "class IntentClassifier:\n",
    "    def __init__(self,classes,model,tokenizer,label_encoder):\n",
    "        self.classes = classes\n",
    "        self.classifier = model\n",
    "        self.tokenizer = tokenizer\n",
    "        self.label_encoder = label_encoder\n",
    "\n",
    "    def get_intent(self,text):\n",
    "        self.text = [text]\n",
    "        self.test_keras = self.tokenizer.texts_to_sequences(self.text)\n",
    "        self.test_keras_sequence = pad_sequences(self.test_keras, maxlen=16, padding='post')\n",
    "        self.pred = self.classifier.predict(self.test_keras_sequence)\n",
    "        return self.label_encoder.inverse_transform(np.argmax(self.pred,1))[0]"
   ]
  },
  {
   "cell_type": "code",
   "execution_count": 18,
   "metadata": {},
   "outputs": [
    {
     "name": "stdout",
     "output_type": "stream",
     "text": [
      "WARNING:tensorflow:Layer lstm_31 will not use cuDNN kernel since it doesn't meet the cuDNN kernel criteria. It will use generic GPU kernel as fallback when running on GPU\n",
      "WARNING:tensorflow:Layer lstm_31 will not use cuDNN kernel since it doesn't meet the cuDNN kernel criteria. It will use generic GPU kernel as fallback when running on GPU\n",
      "WARNING:tensorflow:Layer lstm_31 will not use cuDNN kernel since it doesn't meet the cuDNN kernel criteria. It will use generic GPU kernel as fallback when running on GPU\n",
      "WARNING:tensorflow:Layer lstm_32 will not use cuDNN kernel since it doesn't meet the cuDNN kernel criteria. It will use generic GPU kernel as fallback when running on GPU\n"
     ]
    }
   ],
   "source": [
    "import pickle\n",
    "\n",
    "from tensorflow.python.keras.models import load_model\n",
    "import tensorflow.nn as nn\n",
    "model = load_model('models/intents_new.h5',custom_objects={'leaky_relu': nn.leaky_relu})\n",
    "\n",
    "with open('utils/classes_new.pkl','rb') as file:\n",
    "  classes = pickle.load(file)\n",
    "\n",
    "with open('utils/tokenizer_new.pkl','rb') as file:\n",
    "  tokenizer = pickle.load(file)\n",
    "\n",
    "with open('utils/label_encoder_new.pkl','rb') as file:\n",
    "  label_encoder = pickle.load(file)"
   ]
  },
  {
   "cell_type": "code",
   "execution_count": 19,
   "metadata": {},
   "outputs": [
    {
     "name": "stdout",
     "output_type": "stream",
     "text": [
      "WARNING:tensorflow:Model was constructed with shape (None, 21) for input Tensor(\"embedding_13_input:0\", shape=(None, 21), dtype=float32), but it was called on an input with incompatible shape (None, 16).\n",
      "Phrase: I wanna watch a horror movie\n",
      "Predicted intent: find_movie\n"
     ]
    }
   ],
   "source": [
    "def decode(label):\n",
    "    if label == 0:\n",
    "        return \"find_movie\"\n",
    "    if label == 1: \n",
    "        return \"play_movie\"\n",
    "    if label == 2:\n",
    "        return \"end_chat\"\n",
    "    else:\n",
    "        return \"other\"\n",
    "phrase = \"I wanna watch a horror movie\"\n",
    "nlu = IntentClassifier(classes,model,tokenizer,label_encoder)\n",
    "label = nlu.get_intent(phrase)\n",
    "print(\"Phrase: {}\".format(phrase))\n",
    "print(\"Predicted intent: {}\".format((label)))"
   ]
  }
 ],
 "metadata": {
  "kernelspec": {
   "display_name": "Python 3",
   "language": "python",
   "name": "python3"
  },
  "language_info": {
   "codemirror_mode": {
    "name": "ipython",
    "version": 3
   },
   "file_extension": ".py",
   "mimetype": "text/x-python",
   "name": "python",
   "nbconvert_exporter": "python",
   "pygments_lexer": "ipython3",
   "version": "3.8.3"
  },
  "orig_nbformat": 2
 },
 "nbformat": 4,
 "nbformat_minor": 2
}